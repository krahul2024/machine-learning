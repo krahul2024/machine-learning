{
  "nbformat": 4,
  "nbformat_minor": 0,
  "metadata": {
    "colab": {
      "provenance": [],
      "authorship_tag": "ABX9TyNlvtAoLqn2hQ40Xs2hscrJ",
      "include_colab_link": true
    },
    "kernelspec": {
      "name": "python3",
      "display_name": "Python 3"
    },
    "language_info": {
      "name": "python"
    }
  },
  "cells": [
    {
      "cell_type": "markdown",
      "metadata": {
        "id": "view-in-github",
        "colab_type": "text"
      },
      "source": [
        "<a href=\"https://colab.research.google.com/github/krahul2024/machine-learning/blob/main/tensors/tensors_four.ipynb\" target=\"_parent\"><img src=\"https://colab.research.google.com/assets/colab-badge.svg\" alt=\"Open In Colab\"/></a>"
      ]
    },
    {
      "cell_type": "code",
      "execution_count": null,
      "metadata": {
        "id": "VTcGaP3Xjbf7",
        "cellView": "form"
      },
      "outputs": [],
      "source": [
        "#@title Imports\n",
        "import tensorflow as tf\n",
        "from tensorflow import keras\n",
        "import numpy as np\n",
        "import pandas as pd\n",
        "import matplotlib.pyplot as plt\n",
        "import seaborn as sns\n",
        "import random\n"
      ]
    },
    {
      "cell_type": "markdown",
      "source": [
        "## Convolutional neural nets and comp-vision"
      ],
      "metadata": {
        "id": "BA8X7PIfqEut"
      }
    },
    {
      "cell_type": "markdown",
      "source": [
        "CNNs are normally used for text/image data.\n",
        "Working with [food data](https://data.vision.ee.ethz.ch/cvl/datasets_extra/food-101/) .\n",
        "\n",
        "It contains 101 different categories, and 1000 real-world images per category."
      ],
      "metadata": {
        "id": "jRJ3_O6tqslj"
      }
    },
    {
      "cell_type": "markdown",
      "source": [
        "### Getting the data"
      ],
      "metadata": {
        "id": "v-MDanCBsQWu"
      }
    },
    {
      "cell_type": "code",
      "source": [
        "\n",
        "# downloading the zip file and working on it\n",
        "import zipfile\n",
        "!wget https://storage.googleapis.com/ztm_tf_course/food_vision/pizza_steak.zip\n",
        "zip_ref = zipfile.ZipFile('pizza_steak.zip', 'r')\n",
        "zip_ref.extractall()\n",
        "zip_ref.close()"
      ],
      "metadata": {
        "id": "eTj-1JY9js-5",
        "outputId": "df0308b2-5075-43f6-a838-b981ee69a5d7",
        "colab": {
          "base_uri": "https://localhost:8080/"
        }
      },
      "execution_count": 1,
      "outputs": [
        {
          "output_type": "stream",
          "name": "stdout",
          "text": [
            "--2023-09-29 11:29:00--  https://storage.googleapis.com/ztm_tf_course/food_vision/pizza_steak.zip\n",
            "Resolving storage.googleapis.com (storage.googleapis.com)... 172.253.122.207, 172.253.63.207, 142.251.111.207, ...\n",
            "Connecting to storage.googleapis.com (storage.googleapis.com)|172.253.122.207|:443... connected.\n",
            "HTTP request sent, awaiting response... 200 OK\n",
            "Length: 109540975 (104M) [application/zip]\n",
            "Saving to: ‘pizza_steak.zip’\n",
            "\n",
            "pizza_steak.zip     100%[===================>] 104.47M   199MB/s    in 0.5s    \n",
            "\n",
            "2023-09-29 11:29:00 (199 MB/s) - ‘pizza_steak.zip’ saved [109540975/109540975]\n",
            "\n"
          ]
        }
      ]
    },
    {
      "cell_type": "code",
      "source": [
        "!ls pizza_steak"
      ],
      "metadata": {
        "id": "pqwzO7jNsETe",
        "outputId": "93a078c8-c9ff-4eba-fd8b-9858cb029037",
        "colab": {
          "base_uri": "https://localhost:8080/"
        }
      },
      "execution_count": 2,
      "outputs": [
        {
          "output_type": "stream",
          "name": "stdout",
          "text": [
            "test  train\n"
          ]
        }
      ]
    },
    {
      "cell_type": "code",
      "source": [
        "import os\n",
        "for dirpath, dirnames, filenames in os.walk('pizza_steak'):\n",
        "    print(\n",
        "        f'Total {len(dirnames)} directories and {len(filenames)} images in \" {dirpath}\"'\n",
        "    )\n",
        "\n",
        "train_path = '/pizza_steak/train'\n",
        "test_path = '/pizza_steak/test'"
      ],
      "metadata": {
        "id": "cJwMQ5bLsZIj",
        "outputId": "12116284-63c0-49df-b5a1-621aba9bfaff",
        "colab": {
          "base_uri": "https://localhost:8080/"
        }
      },
      "execution_count": 15,
      "outputs": [
        {
          "output_type": "stream",
          "name": "stdout",
          "text": [
            "Total 2 directories and 0 images in \" pizza_steak\"\n",
            "Total 2 directories and 0 images in \" pizza_steak/train\"\n",
            "Total 0 directories and 750 images in \" pizza_steak/train/steak\"\n",
            "Total 0 directories and 750 images in \" pizza_steak/train/pizza\"\n",
            "Total 2 directories and 0 images in \" pizza_steak/test\"\n",
            "Total 0 directories and 250 images in \" pizza_steak/test/steak\"\n",
            "Total 0 directories and 250 images in \" pizza_steak/test/pizza\"\n"
          ]
        }
      ]
    },
    {
      "cell_type": "code",
      "source": [
        "# viewing a random image\n",
        "def\n",
        "\n"
      ],
      "metadata": {
        "id": "uLNrdiYns5p2",
        "outputId": "48f419fe-bfeb-4bef-c29f-ef91cbc289ee",
        "colab": {
          "base_uri": "https://localhost:8080/"
        }
      },
      "execution_count": 16,
      "outputs": [
        {
          "output_type": "stream",
          "name": "stdout",
          "text": [
            "ls: cannot access '$/pizza_steak/test/pizza': No such file or directory\n"
          ]
        }
      ]
    },
    {
      "cell_type": "code",
      "source": [],
      "metadata": {
        "id": "89XJAcL9uHZv"
      },
      "execution_count": null,
      "outputs": []
    }
  ]
}