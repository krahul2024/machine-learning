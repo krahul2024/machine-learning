{
  "nbformat": 4,
  "nbformat_minor": 0,
  "metadata": {
    "colab": {
      "provenance": [],
      "authorship_tag": "ABX9TyMDGejCdwQ0kpphh5JWRaKF",
      "include_colab_link": true
    },
    "kernelspec": {
      "name": "python3",
      "display_name": "Python 3"
    },
    "language_info": {
      "name": "python"
    }
  },
  "cells": [
    {
      "cell_type": "markdown",
      "metadata": {
        "id": "view-in-github",
        "colab_type": "text"
      },
      "source": [
        "<a href=\"https://colab.research.google.com/github/krahul2024/machine-learning/blob/main/tensors/tensors_one.ipynb\" target=\"_parent\"><img src=\"https://colab.research.google.com/assets/colab-badge.svg\" alt=\"Open In Colab\"/></a>"
      ]
    },
    {
      "cell_type": "code",
      "execution_count": null,
      "metadata": {
        "id": "vMHC0Tbyt5Kj",
        "cellView": "form"
      },
      "outputs": [],
      "source": [
        "#@title Imports\n",
        "import tensorflow as tf\n",
        "import numpy as np\n",
        "import pandas as pd\n",
        "from google.colab import drive\n",
        "drive.mount('/content/drive')\n"
      ]
    },
    {
      "cell_type": "markdown",
      "source": [
        "## Introduction"
      ],
      "metadata": {
        "id": "EcI_fLLnvWCO"
      }
    },
    {
      "cell_type": "code",
      "source": [
        "# creating tensors with tf.constant\n",
        "scalar = tf.constant(10)\n",
        "print(scalar)\n",
        "scalar.ndim # this is for getting the dimension of tensor , here it is scalar\n"
      ],
      "metadata": {
        "id": "f2QQWFHTv-5M",
        "colab": {
          "base_uri": "https://localhost:8080/"
        },
        "outputId": "1ddcb032-e810-437c-b87e-8858d97e190c"
      },
      "execution_count": 2,
      "outputs": [
        {
          "output_type": "stream",
          "name": "stdout",
          "text": [
            "tf.Tensor(10, shape=(), dtype=int32)\n"
          ]
        },
        {
          "output_type": "execute_result",
          "data": {
            "text/plain": [
              "0"
            ]
          },
          "metadata": {},
          "execution_count": 2
        }
      ]
    },
    {
      "cell_type": "code",
      "source": [
        "vector = tf.constant([10, 30])\n",
        "vector.ndim   # dimension of the vector , here it is 1"
      ],
      "metadata": {
        "id": "4XbkwnefwGOo",
        "colab": {
          "base_uri": "https://localhost:8080/"
        },
        "outputId": "e27c24da-7fbe-4819-d7ad-893556d0c241"
      },
      "execution_count": 3,
      "outputs": [
        {
          "output_type": "execute_result",
          "data": {
            "text/plain": [
              "1"
            ]
          },
          "metadata": {},
          "execution_count": 3
        }
      ]
    },
    {
      "cell_type": "code",
      "source": [
        "matrix = tf.constant([[10, 22],[12,211]])\n",
        "print('No. of dimensions for matrix are : ', matrix.ndim)\n",
        "matrix # this is 2d so ndim -> no. of dimensions for this one will be 2"
      ],
      "metadata": {
        "id": "KilUoTuexKl6",
        "colab": {
          "base_uri": "https://localhost:8080/"
        },
        "outputId": "557d50a9-31df-4b47-f04b-abebf01d74e5"
      },
      "execution_count": 4,
      "outputs": [
        {
          "output_type": "stream",
          "name": "stdout",
          "text": [
            "No. of dimensions for matrix are :  2\n"
          ]
        },
        {
          "output_type": "execute_result",
          "data": {
            "text/plain": [
              "<tf.Tensor: shape=(2, 2), dtype=int32, numpy=\n",
              "array([[ 10,  22],\n",
              "       [ 12, 211]], dtype=int32)>"
            ]
          },
          "metadata": {},
          "execution_count": 4
        }
      ]
    },
    {
      "cell_type": "code",
      "source": [
        " matrix_one = tf.constant([[10,11,12],[12,23,25],[1., 12., 122.]], dtype = tf.float32)\n",
        " matrix_one.ndim"
      ],
      "metadata": {
        "id": "oX6kia82xm1u",
        "colab": {
          "base_uri": "https://localhost:8080/"
        },
        "outputId": "311a3fd5-de7c-4e11-96ff-485107957e24"
      },
      "execution_count": 5,
      "outputs": [
        {
          "output_type": "execute_result",
          "data": {
            "text/plain": [
              "2"
            ]
          },
          "metadata": {},
          "execution_count": 5
        }
      ]
    },
    {
      "cell_type": "markdown",
      "source": [
        "### Creating tensors with `tf.Variable`"
      ],
      "metadata": {
        "id": "NxDutNU34cit"
      }
    },
    {
      "cell_type": "code",
      "source": [
        "var_tensor = tf.Variable([10,7])\n",
        "const_tensor = tf.constant([10,11])\n",
        "var_tensor , const_tensor\n",
        "rand_tensor = tf.random"
      ],
      "metadata": {
        "id": "SFCp6VTl4nX6"
      },
      "execution_count": 6,
      "outputs": []
    },
    {
      "cell_type": "markdown",
      "source": [
        "Creating random tensors with tensorflow\n",
        "\n",
        "`tf.random.uniform/normal( shape, minval=0, maxval=None, dtype=tf.dtypes.float32, seed=None,  name=None)`\n",
        "\n",
        "uniform for uniform distribution,\n",
        "normal for normal distribution"
      ],
      "metadata": {
        "id": "c_SfTbcC7UZx"
      }
    },
    {
      "cell_type": "code",
      "source": [
        "rand_tensor = tf.random.uniform([2,5,3,4], minval = 0, maxval = 100, dtype = tf.dtypes.float32, seed = 11) # this is for getting uniformly distributed values\n",
        "rand_tensor, rand_tensor.ndim"
      ],
      "metadata": {
        "colab": {
          "base_uri": "https://localhost:8080/"
        },
        "id": "0618toIg5oe7",
        "outputId": "7551ee07-f55a-4c99-af88-503a4278e6b1"
      },
      "execution_count": 7,
      "outputs": [
        {
          "output_type": "execute_result",
          "data": {
            "text/plain": [
              "(<tf.Tensor: shape=(2, 5, 3, 4), dtype=float32, numpy=\n",
              " array([[[[ 8.955086  , 38.965607  , 50.471367  , 97.1078    ],\n",
              "          [29.068172  , 20.606554  ,  2.5980473 , 75.37996   ],\n",
              "          [76.30501   , 93.53983   , 35.56894   , 38.42145   ]],\n",
              " \n",
              "         [[90.65317   ,  7.8276157 ,  3.8346648 , 94.85524   ],\n",
              "          [48.96165   , 66.08224   , 32.94338   , 74.87129   ],\n",
              "          [71.98417   , 29.033672  ,  6.5448523 , 72.86576   ]],\n",
              " \n",
              "         [[89.438995  , 47.61218   , 28.168833  , 40.286423  ],\n",
              "          [98.88345   , 92.16825   , 85.60416   , 42.051865  ],\n",
              "          [55.047966  , 62.03946   , 55.400776  , 70.20739   ]],\n",
              " \n",
              "         [[40.816223  , 23.5878    , 13.845992  , 21.131754  ],\n",
              "          [68.6862    , 42.837547  , 50.798977  ,  6.447196  ],\n",
              "          [75.7252    , 83.00557   , 61.14533   , 10.852218  ]],\n",
              " \n",
              "         [[44.736446  , 10.361624  , 89.804146  , 58.821404  ],\n",
              "          [ 2.897966  , 47.168648  , 22.799599  , 17.44238   ],\n",
              "          [46.535194  , 71.60003   , 66.206535  , 75.539795  ]]],\n",
              " \n",
              " \n",
              "        [[[99.74806   , 53.312065  , 34.958363  ,  0.60020685],\n",
              "          [98.70448   ,  5.648482  , 33.24981   , 41.18929   ],\n",
              "          [97.59146   , 43.224026  , 87.529755  , 44.42359   ]],\n",
              " \n",
              "         [[63.23876   ,  2.5869608 , 44.734966  , 59.30941   ],\n",
              "          [32.672737  , 56.923664  ,  6.2980294 , 98.15416   ],\n",
              "          [60.72098   , 34.92936   ,  3.7720323 , 97.971855  ]],\n",
              " \n",
              "         [[ 7.7902794 , 89.358116  , 27.284086  , 93.94505   ],\n",
              "          [ 7.1932554 , 50.04232   , 16.459679  , 69.32091   ],\n",
              "          [55.853188  , 61.363186  , 39.072754  , 79.83335   ]],\n",
              " \n",
              "         [[45.13056   , 64.99167   , 71.04789   , 74.82865   ],\n",
              "          [23.569906  , 70.1555    , 44.55309   , 23.378681  ],\n",
              "          [51.448105  , 76.522446  , 93.11195   , 89.41629   ]],\n",
              " \n",
              "         [[85.45225   , 67.00043   , 18.073963  , 51.377342  ],\n",
              "          [76.26377   , 50.825466  , 11.9923    , 78.679535  ],\n",
              "          [58.532417  , 95.736374  , 18.033266  , 34.290874  ]]]],\n",
              "       dtype=float32)>,\n",
              " 4)"
            ]
          },
          "metadata": {},
          "execution_count": 7
        }
      ]
    },
    {
      "cell_type": "markdown",
      "source": [
        "### shuffling  \n",
        "`tf.random.shuffle(\n",
        "    value, seed=None, name=None\n",
        ")`\n",
        "\n",
        "This shuffles along the first dimension"
      ],
      "metadata": {
        "id": "WILIsth98z4x"
      }
    },
    {
      "cell_type": "code",
      "source": [
        "real = tf.constant([[10,122,1322],[12,612,322],[11, 212,102]])\n",
        "shuffled = tf.random.shuffle(real)\n",
        "shuffled, real"
      ],
      "metadata": {
        "colab": {
          "base_uri": "https://localhost:8080/"
        },
        "id": "VxW_93Hr_hJi",
        "outputId": "e7e01386-3c08-4609-f082-10661b0365ff"
      },
      "execution_count": 8,
      "outputs": [
        {
          "output_type": "execute_result",
          "data": {
            "text/plain": [
              "(<tf.Tensor: shape=(3, 3), dtype=int32, numpy=\n",
              " array([[  12,  612,  322],\n",
              "        [  10,  122, 1322],\n",
              "        [  11,  212,  102]], dtype=int32)>,\n",
              " <tf.Tensor: shape=(3, 3), dtype=int32, numpy=\n",
              " array([[  10,  122, 1322],\n",
              "        [  12,  612,  322],\n",
              "        [  11,  212,  102]], dtype=int32)>)"
            ]
          },
          "metadata": {},
          "execution_count": 8
        }
      ]
    },
    {
      "cell_type": "markdown",
      "source": [
        "Shuffling is useful  in the cases when we have sequential data of different types .\n",
        "> let's say we have 100 images of first type , 100 images of second type, now if we feed this to NN , then it will learn first 100 and then rest, now using shuffling we can shuffle the order and mix both types of images and the model can learn simultaneously about both types of images."
      ],
      "metadata": {
        "id": "6TXqz11RB_Pq"
      }
    },
    {
      "cell_type": "markdown",
      "source": [
        "### Other ways of creating tensors"
      ],
      "metadata": {
        "id": "1UJ5KWs-_rca"
      }
    },
    {
      "cell_type": "markdown",
      "source": [
        "`tf.ones([2,3,4])  for all ones`\n",
        "\n",
        " `tf.zeros([5,3,4]) for all zeros  `\n",
        "\n",
        "> Also we can turn numpy arrays into tensors using various methods\n",
        "``tf.constant(np_arr)`` or `tf.convert_to_tensor(np_arr)` .\n",
        "\n",
        "> The difference between numpy arrays and tensors is , tensors can be run on a GPU.\n",
        "\n",
        "> Also we can change the shape , let's say there are total of 30 integers in np_arr , then we can get different shape of tensor as long as product of dimensions of new tensor is equal to the no. of elements in np array."
      ],
      "metadata": {
        "id": "ra6dEZ9MC3yx"
      }
    },
    {
      "cell_type": "code",
      "source": [
        "np_arr = np.random.randint(100, size = ([5,3,4]))\n",
        "converted_tensor_same_dims = tf.convert_to_tensor(np_arr)\n",
        "converted_tensor_diff_dims = tf.constant(np_arr, shape = (2,3,2,5))\n",
        "converted_tensor_diff_dims, converted_tensor_diff_dims.ndim"
      ],
      "metadata": {
        "id": "sawtNzotC60M"
      },
      "execution_count": null,
      "outputs": []
    },
    {
      "cell_type": "markdown",
      "source": [
        "### Tensor properties\n",
        "* Shape : it is just information about different dimesions , like 2x4x5.\n",
        "* Rank : The no. of tensor dimensions , scalar -> 0, array/vector -> 1 , matrix -> 2 and so on ...\n",
        "* Axis  or Dimension  : A particular axis or dimension , indexing is from 0 , so for 0th -> x-axis  and 1st -> y-axis and so on ..\n",
        "* Size : This is total no. of elements  in the tensor"
      ],
      "metadata": {
        "id": "_R4X17r0E4AH"
      }
    },
    {
      "cell_type": "code",
      "source": [
        "# rank 7 tensor\n",
        "rank_sev_tensor = tf.ones([2,3,4,2,3,4,2]) * 12\n",
        "print('Shape ' , rank_sev_tensor.shape)\n",
        "print('Rank ', rank_sev_tensor.ndim)\n",
        "print('Size ' , tf.size(rank_sev_tensor).numpy())\n",
        "for i in range(7):\n",
        "    print('No of elements along' , i+1 ,'th  axis : ', rank_sev_tensor.shape[i])\n",
        "\n",
        "print('\\nFirst two elements of each dimension ')\n",
        "rank_sev_tensor[:2, :2, :2, :2, :2, :2, :2]"
      ],
      "metadata": {
        "id": "XjVUAmNwHju8"
      },
      "execution_count": null,
      "outputs": []
    },
    {
      "cell_type": "markdown",
      "source": [
        "### Adding new dimension to our tensor\n",
        "> It just adds another dimension such that\n",
        "let's say original dimension is `3x4` then new dimension added makes the tensor have dimension as `3x4x1`."
      ],
      "metadata": {
        "id": "kNIyTkBMJEhP"
      }
    },
    {
      "cell_type": "code",
      "source": [
        "rank_two_tensor = tf.constant([[10,12,122],[11,519,102]])\n",
        "# converting or adding another dimension\n",
        "rank_three_tensor = rank_two_tensor[..., tf.newaxis]\n",
        "rank_two_tensor, rank_three_tensor"
      ],
      "metadata": {
        "id": "v27q96vIDhf3"
      },
      "execution_count": null,
      "outputs": []
    },
    {
      "cell_type": "markdown",
      "source": [
        "Alternative to `tf.newaxis`\n",
        "```\n",
        "tf.expand_dims(\n",
        "    input, axis, name=None\n",
        ")\n",
        "```\n",
        "we can expand along any of the dimension using it."
      ],
      "metadata": {
        "id": "l0mb9RoIDq0K"
      }
    },
    {
      "cell_type": "code",
      "source": [
        "expanded_tensor = tf.expand_dims(rank_two_tensor, axis = -1) # expand the last or final axis\n",
        "expanded_tensor"
      ],
      "metadata": {
        "id": "_kV9uGZTDCzU"
      },
      "execution_count": null,
      "outputs": []
    },
    {
      "cell_type": "markdown",
      "source": [
        "### Tensor operations\n",
        "*Basic operations* : +, -, *, /"
      ],
      "metadata": {
        "id": "EFJ0cbZoD36f"
      }
    },
    {
      "cell_type": "code",
      "source": [
        "tensor = tf.constant([[10,143],[121,940]])\n",
        "tensor + 10 , tensor - 11 , tensor * 6, tensor / 12, tensor * tensor , tf.multiply(tensor, 100)"
      ],
      "metadata": {
        "id": "tCIkP3jxMYCx"
      },
      "execution_count": null,
      "outputs": []
    },
    {
      "cell_type": "markdown",
      "source": [
        "### Matrix multiplication\n",
        " *for matrix multiplication or dot product of two matrices  -> matrix_one * matrix_two ,\n",
        " let's say we have matrix_one  -> nxm,  matrix_two ->  axb,\n",
        "to calculate dot product of both matrices  ->  `''a == m'' ` must be true\n",
        "this gives us resultant matrix with dimension n x b\n",
        "If we do this matrix_one * matrix_two , this gives element wise multiplication in tensorflow,\n",
        "to get dot product, `tf.matmul` is used*\n",
        "\n"
      ],
      "metadata": {
        "id": "FGpSW6VwM2S2"
      }
    },
    {
      "cell_type": "code",
      "source": [
        "tensor = tf.constant([[11,123, 31],[19,101,12],[5,38,21]])\n",
        "print(tensor * tensor , '\\n') # element wise multiplication\n",
        "# both of these can be used for matrix multiplication or dot product , keep in mind this example is square matrix but\n",
        "# multiplying the non-square matrix with itself for dot product , will give an error so it is better to multiply the matrix with transpose or reshape the matrix\n",
        "print('Matrix multiplication\\n', (tensor @ tensor).numpy(), '\\n') # this is from python\n",
        "print('Matrix multiplication\\n' ,tf.matmul(tensor, tensor ).numpy())"
      ],
      "metadata": {
        "id": "fSuGIptDNZ8e",
        "outputId": "f115b7af-e72f-443d-ec64-6f8f23cf81d7",
        "colab": {
          "base_uri": "https://localhost:8080/"
        }
      },
      "execution_count": 32,
      "outputs": [
        {
          "output_type": "stream",
          "name": "stdout",
          "text": [
            "tf.Tensor(\n",
            "[[  121 15129   961]\n",
            " [  361 10201   144]\n",
            " [   25  1444   441]], shape=(3, 3), dtype=int32) \n",
            "\n",
            "Matrix multiplication\n",
            " [[ 2613 14954  2468]\n",
            " [ 2188 12994  2053]\n",
            " [  882  5251  1052]] \n",
            "\n",
            "Matrix multiplication\n",
            " [[ 2613 14954  2468]\n",
            " [ 2188 12994  2053]\n",
            " [  882  5251  1052]]\n"
          ]
        }
      ]
    },
    {
      "cell_type": "markdown",
      "source": [
        "Using reshape to adjust dimensions for non-square matrices"
      ],
      "metadata": {
        "id": "e_GP6JI8YrIU"
      }
    },
    {
      "cell_type": "code",
      "source": [
        "tensor = tf.constant([[11,123, 31],[19,101,12]])\n",
        "tensor_reshape = tf.reshape(tensor, shape = (3,2))\n",
        "print('Matrix Multiplication \\n', tf.matmul(tensor, tensor_reshape).numpy())"
      ],
      "metadata": {
        "id": "snc8V2BsTzap",
        "outputId": "5e6410c9-a706-4c52-fbf3-2343003319c6",
        "colab": {
          "base_uri": "https://localhost:8080/"
        }
      },
      "execution_count": 37,
      "outputs": [
        {
          "output_type": "stream",
          "name": "stdout",
          "text": [
            "Matrix Multiplication \n",
            " [[7065 4062]\n",
            " [4552 4400]]\n"
          ]
        }
      ]
    },
    {
      "cell_type": "code",
      "source": [],
      "metadata": {
        "id": "F0-hQzcXYO0Q"
      },
      "execution_count": null,
      "outputs": []
    }
  ]
}