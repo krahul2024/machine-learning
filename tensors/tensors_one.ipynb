{
  "nbformat": 4,
  "nbformat_minor": 0,
  "metadata": {
    "colab": {
      "provenance": [],
      "authorship_tag": "ABX9TyMzZHFMUNOKCJwVR/yL1Wem",
      "include_colab_link": true
    },
    "kernelspec": {
      "name": "python3",
      "display_name": "Python 3"
    },
    "language_info": {
      "name": "python"
    }
  },
  "cells": [
    {
      "cell_type": "markdown",
      "metadata": {
        "id": "view-in-github",
        "colab_type": "text"
      },
      "source": [
        "<a href=\"https://colab.research.google.com/github/krahul2024/machine-learning/blob/main/tensors/tensors_one.ipynb\" target=\"_parent\"><img src=\"https://colab.research.google.com/assets/colab-badge.svg\" alt=\"Open In Colab\"/></a>"
      ]
    },
    {
      "cell_type": "code",
      "execution_count": null,
      "metadata": {
        "id": "vMHC0Tbyt5Kj",
        "cellView": "form"
      },
      "outputs": [],
      "source": [
        "#@title Imports\n",
        "import tensorflow as tf\n",
        "import numpy as np\n",
        "import pandas as pd\n",
        "from google.colab import drive\n",
        "drive.mount('/content/drive')\n"
      ]
    },
    {
      "cell_type": "markdown",
      "source": [
        "## Introduction"
      ],
      "metadata": {
        "id": "EcI_fLLnvWCO"
      }
    },
    {
      "cell_type": "code",
      "source": [
        "# creating tensors with tf.constant\n",
        "scalar = tf.constant(10)\n",
        "print(scalar)\n",
        "scalar.ndim # this is for getting the dimension of tensor , here it is scalar\n"
      ],
      "metadata": {
        "id": "f2QQWFHTv-5M"
      },
      "execution_count": null,
      "outputs": []
    },
    {
      "cell_type": "code",
      "source": [
        "vector = tf.constant([10, 30])\n",
        "vector.ndim   # dimension of the vector , here it is 1"
      ],
      "metadata": {
        "id": "4XbkwnefwGOo"
      },
      "execution_count": null,
      "outputs": []
    },
    {
      "cell_type": "code",
      "source": [
        "matrix = tf.constant([[10, 22],[12,211]])\n",
        "print('No. of dimensions for matrix are : ', matrix.ndim)\n",
        "matrix # this is 2d so ndim -> no. of dimensions for this one will be 2"
      ],
      "metadata": {
        "id": "KilUoTuexKl6"
      },
      "execution_count": null,
      "outputs": []
    },
    {
      "cell_type": "code",
      "source": [
        " matrix_one = tf.constant([[10,11,12],[12,23,25],[1., 12., 122.]], dtype = tf.float32)\n",
        " matrix_one.ndim"
      ],
      "metadata": {
        "id": "oX6kia82xm1u"
      },
      "execution_count": null,
      "outputs": []
    },
    {
      "cell_type": "markdown",
      "source": [
        "### Creating tensors with `tf.Variable`"
      ],
      "metadata": {
        "id": "NxDutNU34cit"
      }
    },
    {
      "cell_type": "code",
      "source": [
        "var_tensor = tf.Variable([10,7])\n",
        "const_tensor = tf.constant([10,11])\n",
        "var_tensor , const_tensor\n",
        "rand_tensor = tf.random"
      ],
      "metadata": {
        "id": "SFCp6VTl4nX6"
      },
      "execution_count": null,
      "outputs": []
    },
    {
      "cell_type": "markdown",
      "source": [
        "Creating random tensors with tensorflow\n",
        "\n",
        "`tf.random.uniform( shape, minval=0, maxval=None, dtype=tf.dtypes.float32, seed=None,  name=None)`"
      ],
      "metadata": {
        "id": "c_SfTbcC7UZx"
      }
    },
    {
      "cell_type": "code",
      "source": [
        "rand_tensor = tf.random.uniform([2,5,3,4], minval = 0, maxval = 100, dtype = tf.dtypes.float32)\n",
        "rand_tensor, rand_tensor.ndim"
      ],
      "metadata": {
        "colab": {
          "base_uri": "https://localhost:8080/"
        },
        "id": "0618toIg5oe7",
        "outputId": "87bc65cb-6e03-4e8d-f719-8132c04c5c54"
      },
      "execution_count": 34,
      "outputs": [
        {
          "output_type": "execute_result",
          "data": {
            "text/plain": [
              "(<tf.Tensor: shape=(2, 5, 3, 4), dtype=float32, numpy=\n",
              " array([[[[9.0964722e+01, 9.3245026e+01, 6.9599472e+01, 7.9802979e+01],\n",
              "          [5.8457802e+01, 5.1159561e+01, 5.7126106e+01, 2.7409399e+01],\n",
              "          [6.6401268e+01, 3.1577660e+01, 2.8362156e+01, 2.7157545e+01]],\n",
              " \n",
              "         [[1.1501002e+01, 4.4463112e+01, 9.7730171e+01, 6.9174812e+01],\n",
              "          [4.3334736e+01, 3.5321365e+01, 3.7144314e+01, 4.3654560e+01],\n",
              "          [3.8829277e+01, 1.0474480e+01, 6.7695259e+01, 1.0191715e+01]],\n",
              " \n",
              "         [[4.6344566e+01, 1.0870087e+01, 6.8447876e+01, 3.8900723e+01],\n",
              "          [8.7322426e+01, 1.3708806e+01, 7.5706375e+01, 2.1671772e+00],\n",
              "          [8.7945847e+01, 7.8489410e+01, 8.8122246e+01, 7.0363914e+01]],\n",
              " \n",
              "         [[7.1865059e+01, 7.7646957e+01, 6.5670464e+01, 8.5623863e+01],\n",
              "          [7.1061005e+01, 7.5405251e+01, 1.7664993e+01, 3.2634331e+01],\n",
              "          [8.4634956e+01, 9.7566116e+01, 7.0747795e+01, 2.8199625e+01]],\n",
              " \n",
              "         [[8.8439133e+01, 1.7107248e+01, 8.0933693e+01, 6.9220146e+01],\n",
              "          [1.2195456e+01, 6.3839626e+01, 3.9643551e+01, 9.0732336e+00],\n",
              "          [7.7051208e+01, 6.6359451e+01, 2.9746174e+01, 8.3053112e-02]]],\n",
              " \n",
              " \n",
              "        [[[1.1323202e+01, 5.8971763e+00, 7.2656921e+01, 9.3790176e+01],\n",
              "          [6.6938187e+01, 2.1530342e+01, 1.9053352e+01, 1.8653130e+01],\n",
              "          [4.7155689e+01, 7.7878098e+01, 2.3369907e+01, 4.8419178e+01]],\n",
              " \n",
              "         [[8.3537415e+01, 9.3279182e+01, 2.9001236e+00, 4.5448528e+01],\n",
              "          [2.8040039e+01, 5.7470177e+01, 4.7646080e+01, 9.6054092e+01],\n",
              "          [3.1958639e+01, 6.0923386e+01, 5.0037670e+01, 4.4344700e+01]],\n",
              " \n",
              "         [[5.7727600e+01, 4.5805931e+00, 6.4980026e+01, 7.5773300e+01],\n",
              "          [9.7263809e+01, 6.4909302e+01, 1.9666172e+01, 8.2569077e+01],\n",
              "          [5.2151466e+01, 3.4792580e+01, 4.9259163e+01, 5.0434780e+01]],\n",
              " \n",
              "         [[9.8954155e+01, 9.2219460e+01, 2.8387547e+01, 9.3069328e+01],\n",
              "          [6.0362602e+01, 6.8597913e+00, 8.3464561e+01, 5.4564240e+01],\n",
              "          [4.3654705e+01, 4.7738194e+01, 1.9828033e+01, 7.1974686e+01]],\n",
              " \n",
              "         [[1.0566831e+01, 1.4181948e+01, 5.1889454e+01, 5.6256866e+01],\n",
              "          [9.6972061e+01, 8.1187202e+01, 1.9346846e+01, 4.7886372e+01],\n",
              "          [6.9753410e+01, 7.9914001e+01, 6.1449146e+01, 6.1587227e+01]]]],\n",
              "       dtype=float32)>,\n",
              " 4)"
            ]
          },
          "metadata": {},
          "execution_count": 34
        }
      ]
    },
    {
      "cell_type": "code",
      "source": [],
      "metadata": {
        "id": "WILIsth98z4x"
      },
      "execution_count": null,
      "outputs": []
    }
  ]
}