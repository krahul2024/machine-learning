{
  "nbformat": 4,
  "nbformat_minor": 0,
  "metadata": {
    "colab": {
      "provenance": [],
      "authorship_tag": "ABX9TyM25iUz27AhbHYn4UajNiE6",
      "include_colab_link": true
    },
    "kernelspec": {
      "name": "python3",
      "display_name": "Python 3"
    },
    "language_info": {
      "name": "python"
    }
  },
  "cells": [
    {
      "cell_type": "markdown",
      "metadata": {
        "id": "view-in-github",
        "colab_type": "text"
      },
      "source": [
        "<a href=\"https://colab.research.google.com/github/krahul2024/machine-learning/blob/main/tensors/tensors_one.ipynb\" target=\"_parent\"><img src=\"https://colab.research.google.com/assets/colab-badge.svg\" alt=\"Open In Colab\"/></a>"
      ]
    },
    {
      "cell_type": "code",
      "execution_count": null,
      "metadata": {
        "id": "vMHC0Tbyt5Kj",
        "cellView": "form"
      },
      "outputs": [],
      "source": [
        "#@title Imports\n",
        "import tensorflow as tf\n",
        "import numpy as np\n",
        "import pandas as pd\n",
        "from google.colab import drive\n",
        "drive.mount('/content/drive')\n"
      ]
    },
    {
      "cell_type": "markdown",
      "source": [
        "## Introduction"
      ],
      "metadata": {
        "id": "EcI_fLLnvWCO"
      }
    },
    {
      "cell_type": "code",
      "source": [
        "# creating tensors with tf.constant\n",
        "scalar = tf.constant(10)\n",
        "print(scalar)\n",
        "scalar.ndim # this is for getting the dimension of tensor , here it is scalar\n"
      ],
      "metadata": {
        "id": "f2QQWFHTv-5M",
        "colab": {
          "base_uri": "https://localhost:8080/"
        },
        "outputId": "d3613ae8-a22c-4c09-b8c3-426f407ada1c"
      },
      "execution_count": 37,
      "outputs": [
        {
          "output_type": "stream",
          "name": "stdout",
          "text": [
            "tf.Tensor(10, shape=(), dtype=int32)\n"
          ]
        },
        {
          "output_type": "execute_result",
          "data": {
            "text/plain": [
              "0"
            ]
          },
          "metadata": {},
          "execution_count": 37
        }
      ]
    },
    {
      "cell_type": "code",
      "source": [
        "vector = tf.constant([10, 30])\n",
        "vector.ndim   # dimension of the vector , here it is 1"
      ],
      "metadata": {
        "id": "4XbkwnefwGOo",
        "colab": {
          "base_uri": "https://localhost:8080/"
        },
        "outputId": "2733dc18-5dcf-43a2-fd2c-5b85cd6b85c6"
      },
      "execution_count": 38,
      "outputs": [
        {
          "output_type": "execute_result",
          "data": {
            "text/plain": [
              "1"
            ]
          },
          "metadata": {},
          "execution_count": 38
        }
      ]
    },
    {
      "cell_type": "code",
      "source": [
        "matrix = tf.constant([[10, 22],[12,211]])\n",
        "print('No. of dimensions for matrix are : ', matrix.ndim)\n",
        "matrix # this is 2d so ndim -> no. of dimensions for this one will be 2"
      ],
      "metadata": {
        "id": "KilUoTuexKl6",
        "colab": {
          "base_uri": "https://localhost:8080/"
        },
        "outputId": "6dffdf2d-4661-4fd0-d9b0-21da38a02f9d"
      },
      "execution_count": 39,
      "outputs": [
        {
          "output_type": "stream",
          "name": "stdout",
          "text": [
            "No. of dimensions for matrix are :  2\n"
          ]
        },
        {
          "output_type": "execute_result",
          "data": {
            "text/plain": [
              "<tf.Tensor: shape=(2, 2), dtype=int32, numpy=\n",
              "array([[ 10,  22],\n",
              "       [ 12, 211]], dtype=int32)>"
            ]
          },
          "metadata": {},
          "execution_count": 39
        }
      ]
    },
    {
      "cell_type": "code",
      "source": [
        " matrix_one = tf.constant([[10,11,12],[12,23,25],[1., 12., 122.]], dtype = tf.float32)\n",
        " matrix_one.ndim"
      ],
      "metadata": {
        "id": "oX6kia82xm1u",
        "colab": {
          "base_uri": "https://localhost:8080/"
        },
        "outputId": "671519a5-010d-441f-f321-ab757b0ff8f1"
      },
      "execution_count": 40,
      "outputs": [
        {
          "output_type": "execute_result",
          "data": {
            "text/plain": [
              "2"
            ]
          },
          "metadata": {},
          "execution_count": 40
        }
      ]
    },
    {
      "cell_type": "markdown",
      "source": [
        "### Creating tensors with `tf.Variable`"
      ],
      "metadata": {
        "id": "NxDutNU34cit"
      }
    },
    {
      "cell_type": "code",
      "source": [
        "var_tensor = tf.Variable([10,7])\n",
        "const_tensor = tf.constant([10,11])\n",
        "var_tensor , const_tensor\n",
        "rand_tensor = tf.random"
      ],
      "metadata": {
        "id": "SFCp6VTl4nX6"
      },
      "execution_count": 52,
      "outputs": []
    },
    {
      "cell_type": "markdown",
      "source": [
        "Creating random tensors with tensorflow\n",
        "\n",
        "`tf.random.uniform/normal( shape, minval=0, maxval=None, dtype=tf.dtypes.float32, seed=None,  name=None)`\n",
        "\n",
        "uniform for uniform distribution,\n",
        "normal for normal distribution"
      ],
      "metadata": {
        "id": "c_SfTbcC7UZx"
      }
    },
    {
      "cell_type": "code",
      "source": [
        "rand_tensor = tf.random.uniform([2,5,3,4], minval = 0, maxval = 100, dtype = tf.dtypes.float32, seed = 11) # this is for getting uniformly distributed values\n",
        "rand_tensor, rand_tensor.ndim"
      ],
      "metadata": {
        "colab": {
          "base_uri": "https://localhost:8080/"
        },
        "id": "0618toIg5oe7",
        "outputId": "90548500-fa66-4b5d-dfc6-34765446bd9a"
      },
      "execution_count": 53,
      "outputs": [
        {
          "output_type": "execute_result",
          "data": {
            "text/plain": [
              "(<tf.Tensor: shape=(2, 5, 3, 4), dtype=float32, numpy=\n",
              " array([[[[36.499714  , 48.88778   , 91.32618   , 25.193262  ],\n",
              "          [16.582823  , 97.52257   , 44.004105  , 75.50574   ],\n",
              "          [63.21428   , 20.446682  , 21.20415   , 19.827986  ]],\n",
              " \n",
              "         [[27.02744   , 64.45725   , 15.8629055 , 89.46597   ],\n",
              "          [79.794586  , 19.316542  , 59.31648   , 51.863716  ],\n",
              "          [37.834156  , 14.249444  ,  0.78237057, 83.17368   ]],\n",
              " \n",
              "         [[62.441315  , 55.93804   , 18.659342  , 18.111538  ],\n",
              "          [31.55421   , 64.10766   ,  5.046737  , 14.97761   ],\n",
              "          [28.34264   , 91.52949   , 71.9794    , 99.49996   ]],\n",
              " \n",
              "         [[40.002274  , 49.299408  , 15.229475  , 89.02998   ],\n",
              "          [91.25129   , 44.708668  , 34.167706  , 80.94463   ],\n",
              "          [38.065636  , 33.97881   , 61.49669   , 74.61533   ]],\n",
              " \n",
              "         [[91.45552   , 47.018085  , 17.427181  , 30.804873  ],\n",
              "          [43.40054   , 37.342487  , 68.96394   , 28.43132   ],\n",
              "          [34.245228  , 99.00737   , 22.413242  , 58.96926   ]]],\n",
              " \n",
              " \n",
              "        [[[19.927002  , 59.582806  , 61.35932   , 14.36708   ],\n",
              "          [69.62731   , 90.41695   , 97.55304   , 30.635262  ],\n",
              "          [96.26891   , 99.26311   , 90.736244  ,  3.3309817 ]],\n",
              " \n",
              "         [[45.443142  , 71.994606  , 83.466545  , 30.089437  ],\n",
              "          [82.88392   , 11.479497  , 35.79887   , 58.623947  ],\n",
              "          [45.713852  ,  3.333974  , 96.5285    , 33.401287  ]],\n",
              " \n",
              "         [[ 8.043777  , 31.7137    , 80.0965    , 74.65399   ],\n",
              "          [52.91028   ,  8.250607  , 93.85097   , 10.573006  ],\n",
              "          [47.44301   , 58.200466  , 76.27761   , 32.822777  ]],\n",
              " \n",
              "         [[ 8.619154  , 93.13221   , 21.23642   , 54.26849   ],\n",
              "          [36.147926  , 28.163136  , 48.75045   , 50.119164  ],\n",
              "          [29.784023  , 85.95686   , 91.332436  , 35.88079   ]],\n",
              " \n",
              "         [[30.57394   , 89.54718   , 64.713776  , 42.370045  ],\n",
              "          [15.4685135 , 55.641747  ,  6.3193917 , 71.53642   ],\n",
              "          [92.82849   , 83.382095  , 79.17591   , 97.995056  ]]]],\n",
              "       dtype=float32)>,\n",
              " 4)"
            ]
          },
          "metadata": {},
          "execution_count": 53
        }
      ]
    },
    {
      "cell_type": "markdown",
      "source": [
        "### shuffling  \n",
        "`tf.random.shuffle(\n",
        "    value, seed=None, name=None\n",
        ")`\n",
        "\n",
        "This shuffles along the first dimension"
      ],
      "metadata": {
        "id": "WILIsth98z4x"
      }
    },
    {
      "cell_type": "code",
      "source": [
        "real = tf.constant([[10,122,1322],[12,612,322],[11, 212,102]])\n",
        "shuffled = tf.random.shuffle(real)\n",
        "shuffled, real"
      ],
      "metadata": {
        "id": "VxW_93Hr_hJi"
      },
      "execution_count": null,
      "outputs": []
    },
    {
      "cell_type": "markdown",
      "source": [
        "Shuffling is useful  in the cases when we have sequential data of different types .\n",
        "> let's say we have 100 images of first type , 100 images of second type, now if we feed this to NN , then it will learn first 100 and then rest, now using shuffling we can shuffle the order and mix both types of images and the model can learn simultaneously about both types of images."
      ],
      "metadata": {
        "id": "6TXqz11RB_Pq"
      }
    },
    {
      "cell_type": "markdown",
      "source": [
        "### Other ways of creating tensors"
      ],
      "metadata": {
        "id": "1UJ5KWs-_rca"
      }
    },
    {
      "cell_type": "markdown",
      "source": [
        "`tf.ones([2,3,4])  for all ones`\n",
        "\n",
        " `tf.zeros([5,3,4]) for all zeros  `\n",
        "\n",
        "> Also we can turn numpy arrays into tensors using various methods\n",
        "``tf.constant(np_arr)`` or `tf.convert_to_tensor(np_arr)` .\n",
        "\n",
        "> The difference between numpy arrays and tensors is , tensors can be run on a GPU.\n",
        "\n",
        "> Also we can change the shape , let's say there are total of 30 integers in np_arr , then we can get different shape of tensor as long as product of dimensions of new tensor is equal to the no. of elements in np array."
      ],
      "metadata": {
        "id": "ra6dEZ9MC3yx"
      }
    },
    {
      "cell_type": "code",
      "source": [
        "np_arr = np.random.randint(100, size = ([5,3,4]))\n",
        "converted_tensor_same_dims = tf.convert_to_tensor(np_arr)\n",
        "converted_tensor_diff_dims = tf.constant(np_arr, shape = (2,3,2,5))\n",
        "converted_tensor_diff_dims, converted_tensor_diff_dims.ndim"
      ],
      "metadata": {
        "id": "sawtNzotC60M",
        "outputId": "314c658b-9b3d-46eb-c9f1-4209e98579c6",
        "colab": {
          "base_uri": "https://localhost:8080/"
        }
      },
      "execution_count": 67,
      "outputs": [
        {
          "output_type": "execute_result",
          "data": {
            "text/plain": [
              "(<tf.Tensor: shape=(2, 3, 2, 5), dtype=int64, numpy=\n",
              " array([[[[36, 78, 31, 70, 48],\n",
              "          [52, 10,  2, 65, 16]],\n",
              " \n",
              "         [[62, 25,  8, 64, 79],\n",
              "          [38, 57, 66, 93, 76]],\n",
              " \n",
              "         [[22, 15, 46, 10, 49],\n",
              "          [47, 56, 29, 38, 37]]],\n",
              " \n",
              " \n",
              "        [[[91, 61, 95, 11, 28],\n",
              "          [15, 20, 37, 22, 82]],\n",
              " \n",
              "         [[80, 57, 47, 16, 40],\n",
              "          [ 5, 18, 18, 39, 97]],\n",
              " \n",
              "         [[94, 70, 44, 43, 28],\n",
              "          [17, 56,  3, 29, 75]]]])>,\n",
              " 4)"
            ]
          },
          "metadata": {},
          "execution_count": 67
        }
      ]
    },
    {
      "cell_type": "code",
      "source": [],
      "metadata": {
        "id": "_R4X17r0E4AH"
      },
      "execution_count": null,
      "outputs": []
    }
  ]
}