{
  "nbformat": 4,
  "nbformat_minor": 0,
  "metadata": {
    "colab": {
      "provenance": [],
      "authorship_tag": "ABX9TyPK/HJC5WtgWCEm3nrsQ3gZ",
      "include_colab_link": true
    },
    "kernelspec": {
      "name": "python3",
      "display_name": "Python 3"
    },
    "language_info": {
      "name": "python"
    }
  },
  "cells": [
    {
      "cell_type": "markdown",
      "metadata": {
        "id": "view-in-github",
        "colab_type": "text"
      },
      "source": [
        "<a href=\"https://colab.research.google.com/github/krahul2024/machine-learning/blob/main/student-performance-analysis/student_performance_analysis.ipynb\" target=\"_parent\"><img src=\"https://colab.research.google.com/assets/colab-badge.svg\" alt=\"Open In Colab\"/></a>"
      ]
    },
    {
      "cell_type": "code",
      "execution_count": 84,
      "metadata": {
        "colab": {
          "base_uri": "https://localhost:8080/"
        },
        "cellView": "form",
        "id": "pgkTqX6XhBIO",
        "outputId": "092843b8-b682-4881-9ea6-cf234fc78307"
      },
      "outputs": [
        {
          "output_type": "stream",
          "name": "stdout",
          "text": [
            "Drive already mounted at /content/MyDrive; to attempt to forcibly remount, call drive.mount(\"/content/MyDrive\", force_remount=True).\n",
            "[Errno 2] No such file or directory: 'MyDrive/MyDrive/student-analysis'\n",
            "/content/MyDrive/MyDrive/student-analysis\n"
          ]
        }
      ],
      "source": [
        "#@title Imports and Installations\n",
        "from google.colab import drive\n",
        "import openpyxl, pandas as pd\n",
        "from openpyxl import load_workbook, Workbook\n",
        "from openpyxl.utils import get_column_letter\n",
        "drive.mount('/content/MyDrive')\n",
        "data_dir = 'MyDrive/MyDrive/student-analysis'\n",
        "%cd {data_dir}"
      ]
    },
    {
      "cell_type": "code",
      "source": [
        "#@title Reading the current file\n",
        "curr_file = '2019-20.xlsx'\n",
        "\n",
        "sheets = load_workbook(curr_file)\n",
        "sheet_names = sheet.sheetnames\n",
        "sheet_names"
      ],
      "metadata": {
        "colab": {
          "base_uri": "https://localhost:8080/"
        },
        "id": "Jj0unPa_nLr7",
        "outputId": "09982f25-9ed2-4c35-cde3-789c80cb96c4"
      },
      "execution_count": 40,
      "outputs": [
        {
          "output_type": "execute_result",
          "data": {
            "text/plain": [
              "['INTERACTION-PAGE', 'CO_ATTAINMENT', 'PO_ATTAINMENT']"
            ]
          },
          "metadata": {},
          "execution_count": 40
        }
      ]
    },
    {
      "cell_type": "code",
      "source": [
        "# Working on sheets\n",
        "sheets = pd.read_excel(curr_file, sheet_name = None)\n",
        "pages = list(sheets.keys())\n",
        "pages"
      ],
      "metadata": {
        "colab": {
          "base_uri": "https://localhost:8080/"
        },
        "id": "E-NLg70Johvi",
        "outputId": "27b3d436-65b9-47df-9d5b-6b913c7ce1ca"
      },
      "execution_count": 102,
      "outputs": [
        {
          "output_type": "execute_result",
          "data": {
            "text/plain": [
              "['INTERACTION-PAGE', 'CO_ATTAINMENT', 'PO_ATTAINMENT']"
            ]
          },
          "metadata": {},
          "execution_count": 102
        }
      ]
    },
    {
      "cell_type": "code",
      "source": [
        "import math, numpy as np"
      ],
      "metadata": {
        "id": "ZddDQKaxOomV"
      },
      "execution_count": 117,
      "outputs": []
    },
    {
      "cell_type": "code",
      "source": [
        "def is_nan(x_):\n",
        "  return type(x_) != str and np.isnan(x_)"
      ],
      "metadata": {
        "id": "tp3UfLnmYqYG"
      },
      "execution_count": 154,
      "outputs": []
    },
    {
      "cell_type": "code",
      "source": [
        "inter_page = sheets[pages[1]].values.tolist()\n",
        "interaction_page = []\n",
        "\n",
        "for row in inter_page:\n",
        "  nan_count = sum([1 if is_nan(x) else 0 for x in row])\n",
        "  if nan_count < len(row)-1 :\n",
        "    interaction_page.append(row)"
      ],
      "metadata": {
        "id": "ahotTLUMH_OO"
      },
      "execution_count": 158,
      "outputs": []
    },
    {
      "cell_type": "code",
      "source": [
        "student_details = []\n",
        "# We have to get the index where student details starts and ends, start_idx, end_idx\n",
        "start_idx, end_idx = -1, -1\n",
        "for i, row in enumerate(interaction_page):\n",
        "  if type(row[1]) == str and len(row[1]) > 2 and 'csb' in row[1][:3].lower():\n",
        "    if start_idx == -1 : start_idx = i\n",
        "    student_details.append([0 if is_nan(x) else x for x in row])\n",
        "\n",
        "\n",
        "for x in student_details[5:11]: print(x, end = '\\n')"
      ],
      "metadata": {
        "colab": {
          "base_uri": "https://localhost:8080/"
        },
        "id": "YDcqatYKNnpy",
        "outputId": "78382573-b793-4bcb-fbef-75df76647a39"
      },
      "execution_count": 160,
      "outputs": [
        {
          "output_type": "stream",
          "name": "stdout",
          "text": [
            "[6, 'CSB18058', 'Anurag Patel', 0, 5.88, 5.04, 10.08, 0, 0, 0, 3.425, 6.165, 2.74, 4.795, 8.4, 10.5, 9.1, 0, 0, 5, 7, 7, 5, 10, 66.75, 71.40740741, 66.57692308, 68.81914894, 59.53846154, 61.64583333, 65.59755486, 0]\n",
            "[7, 'CSB18062', 'Owashim Akram', 0, 6.72, 5.76, 11.52, 0, 0, 0, 3.35, 6.03, 2.68, 4.69, 9.6, 12, 10.4, 0, 0, 4, 7, 7, 5, 9, 69.83333333, 75.25925926, 72.07692308, 74.36170213, 59.07692308, 57.04166667, 67.56329484, 0]\n",
            "[8, 'CSB18057', 'Abhinav Anand', 0, 5.6, 4.8, 9.6, 0, 0, 0, 3.65, 6.57, 2.92, 5.11, 8.7, 10.875, 9.425, 0, 0, 5, 8, 8, 5, 10, 68.83333333, 71.48148148, 70.06410256, 71.4787234, 60.92307692, 62.95833333, 67.38114354, 0]\n",
            "[9, 'CSB18047', 'Ankush Kumar', 0, 4.48, 3.84, 7.68, 0, 0, 0, 2.75, 4.95, 2.2, 3.85, 9.9, 12.375, 10.725, 0, 0, 4, 6, 6, 4, 8, 60.5, 68.07407407, 64.01282051, 62.45744681, 47.69230769, 49.375, 58.32232982, 0]\n",
            "[10, 'CSB18060', 'Nayanjeet Saikia', 0, 4.48, 3.84, 7.68, 0, 0, 0, 3.65, 6.57, 2.92, 5.11, 9.9, 12.375, 10.725, 0, 0, 5, 8, 8, 5, 10, 68.83333333, 71.77777778, 71.44871795, 70.15957447, 60.92307692, 62.95833333, 67.45349609, 0]\n",
            "[11, 'CSB18055', 'Saurabh Kumar Singh', 0, 3.64, 3.12, 6.24, 0, 0, 0, 3.125, 5.625, 2.5, 4.375, 9, 11.25, 9.75, 0, 0, 4, 7, 7, 5, 9, 60.41666667, 61.62962963, 62.80769231, 60.88297872, 57.69230769, 55.72916667, 59.748355, 0]\n"
          ]
        }
      ]
    },
    {
      "cell_type": "code",
      "source": [
        "# Preparing a student dictionary to store all the details of a particular student\n",
        "tests = ['Test I', 'Test II', 'Mid Term', 'End Term', 'Total']\n",
        "course_outcomes = ['CO1', 'CO2', 'CO3', 'CO4', 'CO5']\n",
        "co_marks = ['Max', 'Obtained']\n",
        "test_marks = ['Max', 'Obtained', 'Mean', 'Median', 'Max Obtained', course_outcomes]\n",
        "\n",
        "'''\n",
        "Roll Number : {\n",
        "  Name : '',\n",
        "  Absent Record : True/False,\n",
        "}\n",
        "'''\n",
        "\n",
        "for x in interaction_page[:11]:\n",
        "  print(x)"
      ],
      "metadata": {
        "colab": {
          "base_uri": "https://localhost:8080/"
        },
        "id": "QhG_dnpZYanj",
        "outputId": "2e928255-1f85-4454-c2f1-b7544b3947a5"
      },
      "execution_count": 168,
      "outputs": [
        {
          "output_type": "stream",
          "name": "stdout",
          "text": [
            "[nan, nan, 60, nan, 2, 10, ' Threshold % for CO attainment', nan, nan, nan, nan, nan, nan, 45, nan, nan, nan, nan, nan, nan, nan, nan, nan, nan, nan, nan, nan, nan, nan, nan, nan, nan]\n",
            "[nan, nan, 50, nan, 1, 10, 'Please fill \"AB\" for Absent and \"UR\" for Unregistered candidate(s)', nan, nan, nan, nan, nan, nan, nan, nan, nan, nan, nan, nan, nan, nan, nan, nan, nan, nan, nan, nan, nan, nan, nan, nan, nan]\n",
            "['Faculty Name:', nan, 'Dr. Arindam Karmakar', nan, nan, nan, 'BRANCH', nan, 'Computer Sc. and Engineering', nan, nan, nan, nan, 'Course:', nan, nan, nan, nan, nan, nan, nan, nan, nan, nan, nan, 'DAA', nan, nan, nan, nan, nan, nan]\n",
            "['Programme:', nan, 'B. Tech', nan, 'YEAR', nan, 'II', nan, 'SEM', nan, 4, nan, 'Course Code:', nan, nan, nan, nan, nan, nan, nan, nan, nan, nan, nan, nan, 'CO206', nan, 'SESSION', nan, '2019-2020', nan, 'II']\n",
            "[nan, nan, nan, nan, 'Assessment of Test -I', nan, nan, nan, nan, ' Assessment of Test -II', nan, nan, nan, nan, 'Assessment for Mid Term Exam', nan, nan, nan, nan, 'Assessment of End Term Exam', nan, nan, nan, nan, nan, nan, nan, nan, nan, nan, nan, 'III']\n",
            "['S. No. ', 'Roll No.', 'Name of Student', 'ABSENTEE RECORD', 'Maximum Marks', nan, nan, nan, 25, 'Maximum Marks', nan, nan, nan, 25, 'Maximum Marks', nan, nan, nan, 40, 'Maximum Marks', nan, nan, nan, 60, 'TOTAL', 'CO1', 'CO2', 'CO3', 'CO4', 'CO5', 'ΣCO', 'IV']\n",
            "[nan, nan, nan, nan, 'CO1', 'CO2', 'CO3', 'CO4', 'CO5', 'CO1', 'CO2', 'CO3', 'CO4', 'CO5', 'CO1', 'CO2', 'CO3', 'CO4', 'CO5', 'CO1', 'CO2', 'CO3', 'CO4', 'CO5', '%', '%', '%', '%', '%', '%', '%', nan]\n",
            "[nan, nan, 'CO WISE MAXIMUM MARKS', '\"AB\" or \"UR\"', 7, 6, 12, 0, 0, 0, 5, 9, 4, 7, 12, 15, 13, 0, 0, 8, 13, 13, 9, 17, 100, 100, 100, 100, 100, 100, 100, nan]\n",
            "[1, 'CSB18013', 'Kaushik Kumar Bora', nan, 5.6, 4.8, 9.6, nan, nan, nan, 3.925, 7.065, 3.14, 6, 12, 15, 13, nan, nan, 5, 9, 9, 6, 11, 80.08666667, 83.7037037, 83.91025641, 82.26595745, 70.30769231, 70.83333333, 78.20418864, nan]\n",
            "[2, 'CSB18061', 'Aditya Dey', nan, 6.16, 5.28, 10.56, nan, nan, nan, 3.85, 6.93, 3.08, 5.39, 10.2, 12.75, 11.05, nan, nan, 5, 8, 8, 6, 11, 75.5, 79.11111111, 76.61538462, 77.74468085, 69.84615385, 68.29166667, 74.32179942, nan]\n",
            "[3, 'CSB18038', 'Himanshu Gupta', nan, 6.16, 5.28, 10.56, nan, nan, nan, 4.3, 7.74, 3.44, 6.02, 8.7, 10.875, 9.425, nan, nan, 6, 9, 9, 6, 12, 76.33333333, 77.25925926, 75.52564103, 78.13829787, 72.61538462, 75.08333333, 75.72438322, nan]\n"
          ]
        }
      ]
    },
    {
      "cell_type": "code",
      "source": [
        "course_details = []\n",
        "\n",
        "for x in interaction_page[:start_idx-4]:\n",
        "  course_details.append([x_value for x_value in x if not is_nan(x_value)])\n",
        "\n",
        "course_details"
      ],
      "metadata": {
        "colab": {
          "base_uri": "https://localhost:8080/"
        },
        "id": "HwTOC46olqlo",
        "outputId": "3452bae5-d503-402e-c827-b07dd7566a22"
      },
      "execution_count": 169,
      "outputs": [
        {
          "output_type": "execute_result",
          "data": {
            "text/plain": [
              "[[60, 2, 10, ' Threshold % for CO attainment', 45],\n",
              " [50,\n",
              "  1,\n",
              "  10,\n",
              "  'Please fill \"AB\" for Absent and \"UR\" for Unregistered candidate(s)'],\n",
              " ['Faculty Name:',\n",
              "  'Dr. Arindam Karmakar',\n",
              "  'BRANCH',\n",
              "  'Computer Sc. and Engineering',\n",
              "  'Course:',\n",
              "  'DAA'],\n",
              " ['Programme:',\n",
              "  'B. Tech',\n",
              "  'YEAR',\n",
              "  'II',\n",
              "  'SEM',\n",
              "  4,\n",
              "  'Course Code:',\n",
              "  'CO206',\n",
              "  'SESSION',\n",
              "  '2019-2020',\n",
              "  'II']]"
            ]
          },
          "metadata": {},
          "execution_count": 169
        }
      ]
    },
    {
      "cell_type": "code",
      "source": [],
      "metadata": {
        "id": "pLT9bEFUoJGi"
      },
      "execution_count": null,
      "outputs": []
    }
  ]
}