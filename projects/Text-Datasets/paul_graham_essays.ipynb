{
  "nbformat": 4,
  "nbformat_minor": 0,
  "metadata": {
    "colab": {
      "provenance": [],
      "authorship_tag": "ABX9TyPOiL1iWDxq9y0p+9VPlw3p",
      "include_colab_link": true
    },
    "kernelspec": {
      "name": "python3",
      "display_name": "Python 3"
    },
    "language_info": {
      "name": "python"
    }
  },
  "cells": [
    {
      "cell_type": "markdown",
      "metadata": {
        "id": "view-in-github",
        "colab_type": "text"
      },
      "source": [
        "<a href=\"https://colab.research.google.com/github/krahul2024/machine-learning/blob/main/projects/Text-Datasets/paul_graham_essays.ipynb\" target=\"_parent\"><img src=\"https://colab.research.google.com/assets/colab-badge.svg\" alt=\"Open In Colab\"/></a>"
      ]
    },
    {
      "cell_type": "code",
      "execution_count": 1,
      "metadata": {
        "colab": {
          "base_uri": "https://localhost:8080/"
        },
        "id": "Of-z6pG6bzn2",
        "outputId": "020a2324-9f53-48ce-c533-0cd1ab5c3631"
      },
      "outputs": [
        {
          "output_type": "stream",
          "name": "stdout",
          "text": [
            "Requirement already satisfied: beautifulsoup4 in /usr/local/lib/python3.10/dist-packages (4.11.2)\n",
            "Requirement already satisfied: soupsieve>1.2 in /usr/local/lib/python3.10/dist-packages (from beautifulsoup4) (2.5)\n"
          ]
        }
      ],
      "source": [
        "#@title Installs and imports\n",
        "!pip install beautifulsoup4\n",
        "import requests\n",
        "from bs4 import BeautifulSoup"
      ]
    },
    {
      "cell_type": "code",
      "source": [
        "#@title Get all the links\n",
        "url = 'http://www.paulgraham.com/articles.html'\n",
        "response = requests.get(url)\n",
        "\n",
        "print(response)\n",
        "padding = 'http://www.paulgraham.com/'\n",
        "\n",
        "result = BeautifulSoup(response.text)\n",
        "\n",
        "links_all = result.find_all('a')\n",
        "links = []\n",
        "for link in links_all :\n",
        "    temp = link.get('href')\n",
        "    if 'html' in temp : links.append(padding + temp)\n",
        "\n",
        "len(links), links[:5]"
      ],
      "metadata": {
        "colab": {
          "base_uri": "https://localhost:8080/"
        },
        "id": "kbeFYdYqcT4k",
        "outputId": "fa99e24f-1c83-408a-f087-6dada45dcb19"
      },
      "execution_count": 2,
      "outputs": [
        {
          "output_type": "stream",
          "name": "stdout",
          "text": [
            "<Response [200]>\n"
          ]
        },
        {
          "output_type": "execute_result",
          "data": {
            "text/plain": [
              "(222,\n",
              " ['http://www.paulgraham.com/index.html',\n",
              "  'http://www.paulgraham.com/wisdom.html',\n",
              "  'http://www.paulgraham.com/kids.html',\n",
              "  'http://www.paulgraham.com/selfindulgence.html',\n",
              "  'http://www.paulgraham.com/superlinear.html'])"
            ]
          },
          "metadata": {},
          "execution_count": 2
        }
      ]
    },
    {
      "cell_type": "code",
      "source": [
        "def get_essay(link):\n",
        "    page_response = requests.get(link)\n",
        "    html = BeautifulSoup(page_response.text, 'html.parser')\n",
        "    content = html.find_all('font')\n",
        "    text = content[0].get_text()\n",
        "    text_arr = text.split('\\n')\n",
        "    braces = [f\"[{i}]\" for i in range(100)]\n",
        "    for i, txt in enumerate(text_arr):\n",
        "        for brace in braces :\n",
        "            if brace in txt : text_arr[i] = txt.replace(brace, '')\n",
        "    essay = ''\n",
        "    for txt in text_arr : essay += (txt + ' ')\n",
        "    essay = essay.replace('.', '. ').replace('October 2023', '')\n",
        "    return essay"
      ],
      "metadata": {
        "id": "lYW3vCf-5_yg"
      },
      "execution_count": 26,
      "outputs": []
    },
    {
      "cell_type": "code",
      "source": [
        "essays = []\n",
        "for link in links : essays.append(get_essay(link))"
      ],
      "metadata": {
        "id": "_CZHuPSi_IlN"
      },
      "execution_count": 32,
      "outputs": []
    },
    {
      "cell_type": "code",
      "source": [
        "len(essays)"
      ],
      "metadata": {
        "colab": {
          "base_uri": "https://localhost:8080/"
        },
        "id": "imWM7x4Ljg5Q",
        "outputId": "69a93c47-0e8f-442e-b82c-f2430079a8c6"
      },
      "execution_count": 28,
      "outputs": [
        {
          "output_type": "execute_result",
          "data": {
            "text/plain": [
              "222"
            ]
          },
          "metadata": {},
          "execution_count": 28
        }
      ]
    },
    {
      "cell_type": "code",
      "source": [
        "file_text = ' '.join(essays)\n",
        "\n",
        "filename = 'paul_graham_essays.txt'\n",
        "with open(filename, 'w', encoding = 'utf-8') as file :\n",
        "    file.write(file_text)\n",
        "print('File saved.')"
      ],
      "metadata": {
        "colab": {
          "base_uri": "https://localhost:8080/"
        },
        "id": "qfih-iIapGVV",
        "outputId": "494d1ad5-57bf-4c31-f9d7-2979f89cf20f"
      },
      "execution_count": 36,
      "outputs": [
        {
          "output_type": "stream",
          "name": "stdout",
          "text": [
            "File saved.\n"
          ]
        }
      ]
    },
    {
      "cell_type": "code",
      "source": [],
      "metadata": {
        "id": "wb1YGpgYrHn9"
      },
      "execution_count": null,
      "outputs": []
    }
  ]
}