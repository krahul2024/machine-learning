{
  "nbformat": 4,
  "nbformat_minor": 0,
  "metadata": {
    "colab": {
      "provenance": [],
      "mount_file_id": "https://github.com/krahul2024/machine-learning/blob/main/code/handling_missing_values.ipynb",
      "authorship_tag": "ABX9TyM0+BtnRLnw1Bl55OGHsEur",
      "include_colab_link": true
    },
    "kernelspec": {
      "name": "python3",
      "display_name": "Python 3"
    },
    "language_info": {
      "name": "python"
    }
  },
  "cells": [
    {
      "cell_type": "markdown",
      "metadata": {
        "id": "view-in-github",
        "colab_type": "text"
      },
      "source": [
        "<a href=\"https://colab.research.google.com/github/krahul2024/machine-learning/blob/main/code/handling_missing_values.ipynb\" target=\"_parent\"><img src=\"https://colab.research.google.com/assets/colab-badge.svg\" alt=\"Open In Colab\"/></a>"
      ]
    },
    {
      "cell_type": "code",
      "execution_count": 1,
      "metadata": {
        "id": "VetbjU1UzA-O"
      },
      "outputs": [],
      "source": [
        "import pandas as pd\n",
        "import numpy as np\n",
        "import matplotlib.pyplot as plt\n",
        "import seaborn as sns"
      ]
    },
    {
      "cell_type": "markdown",
      "source": [
        "**How to handle missing values?**\n",
        "* Deletion of missing data :\n",
        "    * Remove complete row or the part which contains missing values. Suitable for cases when small amount of data is missing.\n",
        "    * Column deletion : Remove whole column in case a lot of values are missing for a particular column as they would produce incosistent results.\n",
        "\n",
        "* Imputation or Replacement\n",
        "    * Mean, Median or Mode imputation : Replacing missing values with the mean, median or mode.\n",
        "    * Regression imputation : Predict the missing values uisng regresssion, this is done mostly in cases when we have data which is not comparable.\n",
        "    * KNN, multiple imputation : Using knn or by generation of multiple datasets."
      ],
      "metadata": {
        "id": "aTVncCbv0yhL"
      }
    },
    {
      "cell_type": "code",
      "source": [
        "#@title Working on Placement Data\n",
        "data_url = 'https://raw.githubusercontent.com/krahul2024/machine-learning/main/data/Placement_Dataset.csv'\n",
        "placement_data = pd.read_csv(data_url)"
      ],
      "metadata": {
        "id": "bayqBEHPzONZ"
      },
      "execution_count": null,
      "outputs": []
    },
    {
      "cell_type": "markdown",
      "source": [
        "Finding count of total null values for each of the columns"
      ],
      "metadata": {
        "id": "DFBjkKlUNbuS"
      }
    },
    {
      "cell_type": "code",
      "source": [
        "placement_data.isnull().sum()  # this gives total no. of missing values in each column"
      ],
      "metadata": {
        "id": "nsMkscMYNNQT"
      },
      "execution_count": null,
      "outputs": []
    },
    {
      "cell_type": "markdown",
      "source": [
        "In this dataset about 67 of total 215 rows have missing salary values , so in this case deletion of rows is not an efficient way as it is way too much.\n",
        "In this case we will use imputation.\n",
        "Here we can use central tendencies for imputation.\n",
        "Mean, Median, Mode\n",
        "\n",
        "Analysis of the distribution of data , as we can't just impute missing values with mean , median or mode. First we need to analyse the data and then according to that select the method to use"
      ],
      "metadata": {
        "id": "TxONMMvZNz9g"
      }
    },
    {
      "cell_type": "code",
      "source": [
        "sns.displot(placement_data['salary'])"
      ],
      "metadata": {
        "id": "r32umH3lMCZ-"
      },
      "execution_count": null,
      "outputs": []
    },
    {
      "cell_type": "markdown",
      "source": [],
      "metadata": {
        "id": "spjkcVeEQCrp"
      }
    },
    {
      "cell_type": "markdown",
      "source": [
        "![distribution.png](data:image/png;base64,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)\n",
        "\n",
        "\n",
        "This is distribution of salary , in tihs case we can't use mean to replace missing values,  reason is most of  the data lying on the left side, so here we will be using either median or mode ."
      ],
      "metadata": {
        "id": "cv_T6EtQQGgL"
      }
    },
    {
      "cell_type": "code",
      "source": [
        "# using median to replace the missing values\n",
        "placement_data['salary'].fillna(placement_data['salary'].median(), inplace = True)\n",
        "placement_data.isnull().sum() # now there are no missing values"
      ],
      "metadata": {
        "id": "4ToIPhMXPiz4"
      },
      "execution_count": null,
      "outputs": []
    },
    {
      "cell_type": "markdown",
      "source": [
        "Creating an instance and filling with mean values"
      ],
      "metadata": {
        "id": "x7ta-EAUR5Sl"
      }
    },
    {
      "cell_type": "code",
      "source": [
        "# filling missing values with mean values\n",
        "place_data = placement_data\n",
        "place_data['salary'].fillna(place_data['salary'].median(), inplace = True)"
      ],
      "metadata": {
        "id": "8G9xi6cWRJzp"
      },
      "execution_count": 14,
      "outputs": []
    },
    {
      "cell_type": "code",
      "source": [
        "#@title Data Standardization\n",
        "from sklearn.preprocessing import StandardScaler\n",
        "from sklearn.model_selection import train_test_split\n",
        "import sklearn.datasets"
      ],
      "metadata": {
        "id": "oD3wyQz1RpIZ"
      },
      "execution_count": 15,
      "outputs": []
    },
    {
      "cell_type": "markdown",
      "source": [
        "Using Breast Cancer dataset"
      ],
      "metadata": {
        "id": "XyBlxRrVUMow"
      }
    },
    {
      "cell_type": "code",
      "source": [
        "cancer_dataset = sklearn.datasets.load_breast_cancer()\n",
        "# loading this dataset to pandas dataframe\n",
        "cancer_data = pd.DataFrame(cancer_dataset.data, columns = cancer_dataset.feature_names)\n",
        "# as this dataframe doesn't include target so we have to store this somewhere as this is result\n",
        "X = cancer_data\n",
        "Y = cancer_dataset.target"
      ],
      "metadata": {
        "id": "42glOpFhUJ09"
      },
      "execution_count": 25,
      "outputs": []
    },
    {
      "cell_type": "code",
      "source": [],
      "metadata": {
        "id": "3iUKiOioUZuM"
      },
      "execution_count": null,
      "outputs": []
    }
  ]
}