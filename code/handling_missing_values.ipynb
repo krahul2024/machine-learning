{
  "nbformat": 4,
  "nbformat_minor": 0,
  "metadata": {
    "colab": {
      "provenance": [],
      "mount_file_id": "https://github.com/krahul2024/machine-learning/blob/main/code/handling_missing_values.ipynb",
      "authorship_tag": "ABX9TyOnE3eUVMhWWEPDG0X6hWKD",
      "include_colab_link": true
    },
    "kernelspec": {
      "name": "python3",
      "display_name": "Python 3"
    },
    "language_info": {
      "name": "python"
    }
  },
  "cells": [
    {
      "cell_type": "markdown",
      "metadata": {
        "id": "view-in-github",
        "colab_type": "text"
      },
      "source": [
        "<a href=\"https://colab.research.google.com/github/krahul2024/machine-learning/blob/main/code/handling_missing_values.ipynb\" target=\"_parent\"><img src=\"https://colab.research.google.com/assets/colab-badge.svg\" alt=\"Open In Colab\"/></a>"
      ]
    },
    {
      "cell_type": "code",
      "execution_count": 1,
      "metadata": {
        "id": "VetbjU1UzA-O"
      },
      "outputs": [],
      "source": [
        "import pandas as pd\n",
        "import numpy as np\n",
        "import matplotlib.pyplot as plt\n",
        "import seaborn as sns"
      ]
    },
    {
      "cell_type": "markdown",
      "source": [
        "**How to handle missing values?**\n",
        "* Deletion of missing data :\n",
        "    * Remove complete row or the part which contains missing values. Suitable for cases when small amount of data is missing.\n",
        "    * Column deletion : Remove whole column in case a lot of values are missing for a particular column as they would produce incosistent results.\n",
        "\n",
        "* Imputation or Replacement\n",
        "    * Mean, Median or Mode imputation : Replacing missing values with the mean, median or mode.\n",
        "    * Regression imputation : Predict the missing values uisng regresssion, this is done mostly in cases when we have data which is not comparable.\n",
        "    * KNN, multiple imputation : Using knn or by generation of multiple datasets."
      ],
      "metadata": {
        "id": "aTVncCbv0yhL"
      }
    },
    {
      "cell_type": "code",
      "source": [
        "#@title Importing Placement Data\n",
        "data_url = 'https://raw.githubusercontent.com/krahul2024/machine-learning/main/data/Placement_Dataset.csv'\n",
        "placement_data = pd.read_csv(data_url)"
      ],
      "metadata": {
        "id": "bayqBEHPzONZ"
      },
      "execution_count": null,
      "outputs": []
    },
    {
      "cell_type": "markdown",
      "source": [
        "Finding count of total null values for each of the columns"
      ],
      "metadata": {
        "id": "DFBjkKlUNbuS"
      }
    },
    {
      "cell_type": "code",
      "source": [
        "placement_data.isnull().sum()  # this gives total no. of missing values in each column"
      ],
      "metadata": {
        "id": "nsMkscMYNNQT"
      },
      "execution_count": null,
      "outputs": []
    },
    {
      "cell_type": "markdown",
      "source": [
        "In this dataset about 67 of total 215 rows have missing salary values , so in this case deletion of rows is not an efficient way as it is way too much.\n",
        "In this case we will use imputation.\n",
        "Here we can use central tendencies for imputation.\n",
        "Mean, Median, Mode"
      ],
      "metadata": {
        "id": "TxONMMvZNz9g"
      }
    },
    {
      "cell_type": "code",
      "source": [],
      "metadata": {
        "id": "r32umH3lMCZ-"
      },
      "execution_count": null,
      "outputs": []
    }
  ]
}