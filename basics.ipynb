{
 "cells": [
  {
   "cell_type": "code",
   "execution_count": 1,
   "id": "1f3b3596",
   "metadata": {
    "_cell_guid": "b1076dfc-b9ad-4769-8c92-a6c4dae69d19",
    "_uuid": "8f2839f25d086af736a60e9eeb907d3b93b6e0e5",
    "execution": {
     "iopub.execute_input": "2023-12-30T13:21:23.210702Z",
     "iopub.status.busy": "2023-12-30T13:21:23.210328Z",
     "iopub.status.idle": "2023-12-30T13:21:24.848844Z",
     "shell.execute_reply": "2023-12-30T13:21:24.847519Z"
    },
    "papermill": {
     "duration": 1.645606,
     "end_time": "2023-12-30T13:21:24.851222",
     "exception": false,
     "start_time": "2023-12-30T13:21:23.205616",
     "status": "completed"
    },
    "tags": []
   },
   "outputs": [
    {
     "name": "stdout",
     "output_type": "stream",
     "text": [
      "/kaggle/input/health-insurance-dataset/Health_insurance.csv\n"
     ]
    }
   ],
   "source": [
    "import os, numpy as np, matplotlib.pyplot as plt, seaborn as sns, pandas as pd\n",
    "\n",
    "for dirname, _, filenames in os.walk('/kaggle/input'):\n",
    "    for filename in filenames:\n",
    "        print(os.path.join(dirname, filename))\n",
    "\n",
    "# You can write up to 20GB to the current directory (/kaggle/working/) that gets preserved as output when you create a version using \"Save & Run All\" \n",
    "# You can also write temporary files to /kaggle/temp/, but they won't be saved outside of the current session"
   ]
  },
  {
   "cell_type": "code",
   "execution_count": 2,
   "id": "852a032f",
   "metadata": {
    "execution": {
     "iopub.execute_input": "2023-12-30T13:21:24.859315Z",
     "iopub.status.busy": "2023-12-30T13:21:24.858366Z",
     "iopub.status.idle": "2023-12-30T13:21:24.900844Z",
     "shell.execute_reply": "2023-12-30T13:21:24.899736Z"
    },
    "papermill": {
     "duration": 0.048774,
     "end_time": "2023-12-30T13:21:24.903143",
     "exception": false,
     "start_time": "2023-12-30T13:21:24.854369",
     "status": "completed"
    },
    "scrolled": true,
    "tags": []
   },
   "outputs": [
    {
     "data": {
      "text/html": [
       "<div>\n",
       "<style scoped>\n",
       "    .dataframe tbody tr th:only-of-type {\n",
       "        vertical-align: middle;\n",
       "    }\n",
       "\n",
       "    .dataframe tbody tr th {\n",
       "        vertical-align: top;\n",
       "    }\n",
       "\n",
       "    .dataframe thead th {\n",
       "        text-align: right;\n",
       "    }\n",
       "</style>\n",
       "<table border=\"1\" class=\"dataframe\">\n",
       "  <thead>\n",
       "    <tr style=\"text-align: right;\">\n",
       "      <th></th>\n",
       "      <th>age</th>\n",
       "      <th>sex</th>\n",
       "      <th>bmi</th>\n",
       "      <th>children</th>\n",
       "      <th>smoker</th>\n",
       "      <th>region</th>\n",
       "      <th>charges</th>\n",
       "    </tr>\n",
       "  </thead>\n",
       "  <tbody>\n",
       "    <tr>\n",
       "      <th>0</th>\n",
       "      <td>19</td>\n",
       "      <td>female</td>\n",
       "      <td>27.900</td>\n",
       "      <td>0</td>\n",
       "      <td>yes</td>\n",
       "      <td>southwest</td>\n",
       "      <td>16884.92400</td>\n",
       "    </tr>\n",
       "    <tr>\n",
       "      <th>1</th>\n",
       "      <td>18</td>\n",
       "      <td>male</td>\n",
       "      <td>33.770</td>\n",
       "      <td>1</td>\n",
       "      <td>no</td>\n",
       "      <td>southeast</td>\n",
       "      <td>1725.55230</td>\n",
       "    </tr>\n",
       "    <tr>\n",
       "      <th>2</th>\n",
       "      <td>28</td>\n",
       "      <td>male</td>\n",
       "      <td>33.000</td>\n",
       "      <td>3</td>\n",
       "      <td>no</td>\n",
       "      <td>southeast</td>\n",
       "      <td>4449.46200</td>\n",
       "    </tr>\n",
       "    <tr>\n",
       "      <th>3</th>\n",
       "      <td>33</td>\n",
       "      <td>male</td>\n",
       "      <td>22.705</td>\n",
       "      <td>0</td>\n",
       "      <td>no</td>\n",
       "      <td>northwest</td>\n",
       "      <td>21984.47061</td>\n",
       "    </tr>\n",
       "    <tr>\n",
       "      <th>4</th>\n",
       "      <td>32</td>\n",
       "      <td>male</td>\n",
       "      <td>28.880</td>\n",
       "      <td>0</td>\n",
       "      <td>no</td>\n",
       "      <td>northwest</td>\n",
       "      <td>3866.85520</td>\n",
       "    </tr>\n",
       "  </tbody>\n",
       "</table>\n",
       "</div>"
      ],
      "text/plain": [
       "   age     sex     bmi  children smoker     region      charges\n",
       "0   19  female  27.900         0    yes  southwest  16884.92400\n",
       "1   18    male  33.770         1     no  southeast   1725.55230\n",
       "2   28    male  33.000         3     no  southeast   4449.46200\n",
       "3   33    male  22.705         0     no  northwest  21984.47061\n",
       "4   32    male  28.880         0     no  northwest   3866.85520"
      ]
     },
     "execution_count": 2,
     "metadata": {},
     "output_type": "execute_result"
    }
   ],
   "source": [
    "data = pd.read_csv('/kaggle/input/health-insurance-dataset/Health_insurance.csv')\n",
    "data.head()"
   ]
  },
  {
   "cell_type": "code",
   "execution_count": 3,
   "id": "755a92c5",
   "metadata": {
    "execution": {
     "iopub.execute_input": "2023-12-30T13:21:24.911629Z",
     "iopub.status.busy": "2023-12-30T13:21:24.910609Z",
     "iopub.status.idle": "2023-12-30T13:21:25.026217Z",
     "shell.execute_reply": "2023-12-30T13:21:25.025216Z"
    },
    "papermill": {
     "duration": 0.122103,
     "end_time": "2023-12-30T13:21:25.028613",
     "exception": false,
     "start_time": "2023-12-30T13:21:24.906510",
     "status": "completed"
    },
    "tags": []
   },
   "outputs": [
    {
     "name": "stdout",
     "output_type": "stream",
     "text": [
      "Basic information about the dataset\n",
      "\n",
      "\n",
      "<class 'pandas.core.frame.DataFrame'>\n",
      "RangeIndex: 1338 entries, 0 to 1337\n",
      "Data columns (total 7 columns):\n",
      " #   Column    Non-Null Count  Dtype  \n",
      "---  ------    --------------  -----  \n",
      " 0   age       1338 non-null   int64  \n",
      " 1   sex       1338 non-null   object \n",
      " 2   bmi       1338 non-null   float64\n",
      " 3   children  1338 non-null   int64  \n",
      " 4   smoker    1338 non-null   object \n",
      " 5   region    1338 non-null   object \n",
      " 6   charges   1338 non-null   float64\n",
      "dtypes: float64(2), int64(2), object(3)\n",
      "memory usage: 73.3+ KB\n"
     ]
    },
    {
     "data": {
      "text/plain": [
       "(None,\n",
       "                age          bmi     children       charges\n",
       " count  1338.000000  1338.000000  1338.000000   1338.000000\n",
       " mean     39.207025    30.663397     1.094918  13270.422265\n",
       " std      14.049960     6.098187     1.205493  12110.011237\n",
       " min      18.000000    15.960000     0.000000   1121.873900\n",
       " 25%      27.000000    26.296250     0.000000   4740.287150\n",
       " 50%      39.000000    30.400000     1.000000   9382.033000\n",
       " 75%      51.000000    34.693750     2.000000  16639.912515\n",
       " max      64.000000    53.130000     5.000000  63770.428010)"
      ]
     },
     "execution_count": 3,
     "metadata": {},
     "output_type": "execute_result"
    }
   ],
   "source": [
    "print('Basic information about the dataset\\n\\n')\n",
    "data.info(), data.describe()"
   ]
  },
  {
   "cell_type": "code",
   "execution_count": 4,
   "id": "22f47495",
   "metadata": {
    "execution": {
     "iopub.execute_input": "2023-12-30T13:21:25.037114Z",
     "iopub.status.busy": "2023-12-30T13:21:25.036737Z",
     "iopub.status.idle": "2023-12-30T13:21:26.300762Z",
     "shell.execute_reply": "2023-12-30T13:21:26.299531Z"
    },
    "papermill": {
     "duration": 1.271171,
     "end_time": "2023-12-30T13:21:26.303225",
     "exception": false,
     "start_time": "2023-12-30T13:21:25.032054",
     "status": "completed"
    },
    "tags": []
   },
   "outputs": [
    {
     "data": {
      "image/png": "[encoded data removed]",
      "text/plain": [
       "<Figure size 640x480 with 4 Axes>"
      ]
     },
     "metadata": {},
     "output_type": "display_data"
    }
   ],
   "source": [
    "# Creating plots for all the float/int data types\n",
    "data.hist(bins = 80)\n",
    "plt.show()"
   ]
  },
  {
   "cell_type": "code",
   "execution_count": null,
   "id": "6c0eff81",
   "metadata": {
    "papermill": {
     "duration": 0.003637,
     "end_time": "2023-12-30T13:21:26.310870",
     "exception": false,
     "start_time": "2023-12-30T13:21:26.307233",
     "status": "completed"
    },
    "tags": []
   },
   "outputs": [],
   "source": []
  },
  {
   "cell_type": "markdown",
   "id": "d16aad46",
   "metadata": {
    "papermill": {
     "duration": 0.003438,
     "end_time": "2023-12-30T13:21:26.318111",
     "exception": false,
     "start_time": "2023-12-30T13:21:26.314673",
     "status": "completed"
    },
    "tags": []
   },
   "source": [
    "**Plots used to visualize numerical data** \n",
    "* Histogram\n",
    "* Box Plot \n",
    "* Scatter Plot \n",
    "* LIne chart\n",
    "* Heatmap \n",
    "\n",
    "**Plots used to visualize categorical data** \n",
    "* Bar plot\n",
    "* Pie chart\n",
    "* count plot\n",
    "* Box plot\n",
    "\n",
    "We can construct correlation matrix and then construct the heatmap to see various types of relationships among the columns(numerical columns only), Working a lot on categorical columns doesn't help much as we can't quantify them, just label or one-hot code them and that doesn't help much. \n"
   ]
  },
  {
   "cell_type": "code",
   "execution_count": 5,
   "id": "7e7077f0",
   "metadata": {
    "execution": {
     "iopub.execute_input": "2023-12-30T13:21:26.327171Z",
     "iopub.status.busy": "2023-12-30T13:21:26.326777Z",
     "iopub.status.idle": "2023-12-30T13:21:26.335116Z",
     "shell.execute_reply": "2023-12-30T13:21:26.334056Z"
    },
    "papermill": {
     "duration": 0.015693,
     "end_time": "2023-12-30T13:21:26.337484",
     "exception": false,
     "start_time": "2023-12-30T13:21:26.321791",
     "status": "completed"
    },
    "tags": []
   },
   "outputs": [
    {
     "data": {
      "text/plain": [
       "['age', 'bmi', 'children', 'charges']"
      ]
     },
     "execution_count": 5,
     "metadata": {},
     "output_type": "execute_result"
    }
   ],
   "source": [
    "cols = data.columns \n",
    "cat_cols = [x for x in cols if data[x].dtype == object]\n",
    "num_cols = list(set(cols) - set(cat_cols))\n",
    "num_cols"
   ]
  },
  {
   "cell_type": "code",
   "execution_count": 6,
   "id": "d4017c62",
   "metadata": {
    "execution": {
     "iopub.execute_input": "2023-12-30T13:21:26.347003Z",
     "iopub.status.busy": "2023-12-30T13:21:26.346652Z",
     "iopub.status.idle": "2023-12-30T13:21:26.360073Z",
     "shell.execute_reply": "2023-12-30T13:21:26.358876Z"
    },
    "papermill": {
     "duration": 0.020818,
     "end_time": "2023-12-30T13:21:26.362248",
     "exception": false,
     "start_time": "2023-12-30T13:21:26.341430",
     "status": "completed"
    },
    "tags": []
   },
   "outputs": [
    {
     "data": {
      "text/plain": [
       "<Figure size 800x800 with 0 Axes>"
      ]
     },
     "execution_count": 6,
     "metadata": {},
     "output_type": "execute_result"
    },
    {
     "data": {
      "text/plain": [
       "<Figure size 800x800 with 0 Axes>"
      ]
     },
     "metadata": {},
     "output_type": "display_data"
    }
   ],
   "source": [
    "plt.figure(figsize = (8, 8))\n"
   ]
  },
  {
   "cell_type": "code",
   "execution_count": null,
   "id": "91e56785",
   "metadata": {
    "papermill": {
     "duration": 0.003974,
     "end_time": "2023-12-30T13:21:26.370507",
     "exception": false,
     "start_time": "2023-12-30T13:21:26.366533",
     "status": "completed"
    },
    "tags": []
   },
   "outputs": [],
   "source": []
  }
 ],
 "metadata": {
  "kaggle": {
   "accelerator": "none",
   "dataSources": [
    {
     "datasetId": 1045743,
     "sourceId": 1759227,
     "sourceType": "datasetVersion"
    }
   ],
   "dockerImageVersionId": 30626,
   "isGpuEnabled": false,
   "isInternetEnabled": true,
   "language": "python",
   "sourceType": "notebook"
  },
  "kernelspec": {
   "display_name": "Python 3",
   "language": "python",
   "name": "python3"
  },
  "language_info": {
   "codemirror_mode": {
    "name": "ipython",
    "version": 3
   },
   "file_extension": ".py",
   "mimetype": "text/x-python",
   "name": "python",
   "nbconvert_exporter": "python",
   "pygments_lexer": "ipython3",
   "version": "3.10.12"
  },
  "papermill": {
   "default_parameters": {},
   "duration": 6.794618,
   "end_time": "2023-12-30T13:21:26.995601",
   "environment_variables": {},
   "exception": null,
   "input_path": "__notebook__.ipynb",
   "output_path": "__notebook__.ipynb",
   "parameters": {},
   "start_time": "2023-12-30T13:21:20.200983",
   "version": "2.4.0"
  }
 },
 "nbformat": 4,
 "nbformat_minor": 5
}
