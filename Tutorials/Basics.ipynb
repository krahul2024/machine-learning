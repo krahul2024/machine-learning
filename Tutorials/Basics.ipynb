{
  "nbformat": 4,
  "nbformat_minor": 0,
  "metadata": {
    "colab": {
      "provenance": [],
      "authorship_tag": "ABX9TyN6NzkwiG3PSPixRdS7xFhe",
      "include_colab_link": true
    },
    "kernelspec": {
      "name": "python3",
      "display_name": "Python 3"
    },
    "language_info": {
      "name": "python"
    }
  },
  "cells": [
    {
      "cell_type": "markdown",
      "metadata": {
        "id": "view-in-github",
        "colab_type": "text"
      },
      "source": [
        "<a href=\"https://colab.research.google.com/github/krahul2024/machine-learning/blob/main/Tutorials/Basics.ipynb\" target=\"_parent\"><img src=\"https://colab.research.google.com/assets/colab-badge.svg\" alt=\"Open In Colab\"/></a>"
      ]
    },
    {
      "cell_type": "markdown",
      "source": [
        "### Linear Regression\n",
        "\n",
        "**Single Linear Regression :**\n",
        "*It is supervised learning algorithm, here we have one input column and one output column, just like `y = mx + c`*\n",
        "In this case we have one feature and one target/output, we have to derive an equation based on given examples of feature(only one) and relate it with the target.\n",
        "The result of single linear regresion is a straight line equation.\n",
        "```\n",
        " y = wx + b, b being the intercept/bias.\n",
        "```\n",
        "First thing is we can do with any data is to plot it, we can observe from any data is linearity/non-linearity. In any case(whether the data is linear/non-linear), we can always draw a straight line which is closest to most of the data points, as we are performing single linear regression.\n",
        "\n",
        "\n",
        "To get started with single linear regression problem, we can get some random points and then try to predict result for some other points, which we didn't consider during analysis/training.\n",
        "\n"
      ],
      "metadata": {
        "id": "Y3c3x52sGt7T"
      }
    },
    {
      "cell_type": "code",
      "execution_count": 1,
      "metadata": {
        "colab": {
          "base_uri": "https://localhost:8080/"
        },
        "id": "Gxb1nBYiGtIY",
        "outputId": "49275b03-9d05-451a-d7c3-41ade827a033"
      },
      "outputs": [
        {
          "output_type": "stream",
          "name": "stdout",
          "text": [
            "Done.\n"
          ]
        }
      ],
      "source": [
        "import numpy as np, pandas as pd, matplotlib.pyplot as plt, seaborn as sns\n",
        "print('Done.')"
      ]
    },
    {
      "cell_type": "code",
      "source": [
        "# generate dataset for our single linear regression\n",
        "feature = np.linspace(-430, 432, 100)\n",
        "target = np.linspace(-53, 67, 100)\n",
        "\n",
        "feature[:10], target[:10]"
      ],
      "metadata": {
        "colab": {
          "base_uri": "https://localhost:8080/"
        },
        "id": "631dTRrEHPSm",
        "outputId": "804ab1d7-80ac-4f12-9afc-f418ab245775"
      },
      "execution_count": 2,
      "outputs": [
        {
          "output_type": "execute_result",
          "data": {
            "text/plain": [
              "(array([-430.        , -421.29292929, -412.58585859, -403.87878788,\n",
              "        -395.17171717, -386.46464646, -377.75757576, -369.05050505,\n",
              "        -360.34343434, -351.63636364]),\n",
              " array([-53.        , -51.78787879, -50.57575758, -49.36363636,\n",
              "        -48.15151515, -46.93939394, -45.72727273, -44.51515152,\n",
              "        -43.3030303 , -42.09090909]))"
            ]
          },
          "metadata": {},
          "execution_count": 2
        }
      ]
    },
    {
      "cell_type": "code",
      "source": [
        "# generate a pandas dataframe\n",
        "\n",
        "data = pd.DataFrame(\n",
        "    data = {\n",
        "        'Feature' : [np.round(x, 2) for x in feature],\n",
        "        'Target': [np.round(x, 2) for x in target]\n",
        "      }\n",
        "  )\n",
        "\n",
        "data.head()"
      ],
      "metadata": {
        "colab": {
          "base_uri": "https://localhost:8080/",
          "height": 206
        },
        "id": "VOmKYfHfHp3r",
        "outputId": "108343d8-e8c6-4622-f031-7167d3549c77"
      },
      "execution_count": 3,
      "outputs": [
        {
          "output_type": "execute_result",
          "data": {
            "text/plain": [
              "   Feature  Target\n",
              "0  -430.00  -53.00\n",
              "1  -421.29  -51.79\n",
              "2  -412.59  -50.58\n",
              "3  -403.88  -49.36\n",
              "4  -395.17  -48.15"
            ],
            "text/html": [
              "\n",
              "  <div id=\"df-9bdc30e6-33d1-4c9a-948a-31a7b781f643\" class=\"colab-df-container\">\n",
              "    <div>\n",
              "<style scoped>\n",
              "    .dataframe tbody tr th:only-of-type {\n",
              "        vertical-align: middle;\n",
              "    }\n",
              "\n",
              "    .dataframe tbody tr th {\n",
              "        vertical-align: top;\n",
              "    }\n",
              "\n",
              "    .dataframe thead th {\n",
              "        text-align: right;\n",
              "    }\n",
              "</style>\n",
              "<table border=\"1\" class=\"dataframe\">\n",
              "  <thead>\n",
              "    <tr style=\"text-align: right;\">\n",
              "      <th></th>\n",
              "      <th>Feature</th>\n",
              "      <th>Target</th>\n",
              "    </tr>\n",
              "  </thead>\n",
              "  <tbody>\n",
              "    <tr>\n",
              "      <th>0</th>\n",
              "      <td>-430.00</td>\n",
              "      <td>-53.00</td>\n",
              "    </tr>\n",
              "    <tr>\n",
              "      <th>1</th>\n",
              "      <td>-421.29</td>\n",
              "      <td>-51.79</td>\n",
              "    </tr>\n",
              "    <tr>\n",
              "      <th>2</th>\n",
              "      <td>-412.59</td>\n",
              "      <td>-50.58</td>\n",
              "    </tr>\n",
              "    <tr>\n",
              "      <th>3</th>\n",
              "      <td>-403.88</td>\n",
              "      <td>-49.36</td>\n",
              "    </tr>\n",
              "    <tr>\n",
              "      <th>4</th>\n",
              "      <td>-395.17</td>\n",
              "      <td>-48.15</td>\n",
              "    </tr>\n",
              "  </tbody>\n",
              "</table>\n",
              "</div>\n",
              "    <div class=\"colab-df-buttons\">\n",
              "\n",
              "  <div class=\"colab-df-container\">\n",
              "    <button class=\"colab-df-convert\" onclick=\"convertToInteractive('df-9bdc30e6-33d1-4c9a-948a-31a7b781f643')\"\n",
              "            title=\"Convert this dataframe to an interactive table.\"\n",
              "            style=\"display:none;\">\n",
              "\n",
              "  <svg xmlns=\"http://www.w3.org/2000/svg\" height=\"24px\" viewBox=\"0 -960 960 960\">\n",
              "    <path d=\"M120-120v-720h720v720H120Zm60-500h600v-160H180v160Zm220 220h160v-160H400v160Zm0 220h160v-160H400v160ZM180-400h160v-160H180v160Zm440 0h160v-160H620v160ZM180-180h160v-160H180v160Zm440 0h160v-160H620v160Z\"/>\n",
              "  </svg>\n",
              "    </button>\n",
              "\n",
              "  <style>\n",
              "    .colab-df-container {\n",
              "      display:flex;\n",
              "      gap: 12px;\n",
              "    }\n",
              "\n",
              "    .colab-df-convert {\n",
              "      background-color: #E8F0FE;\n",
              "      border: none;\n",
              "      border-radius: 50%;\n",
              "      cursor: pointer;\n",
              "      display: none;\n",
              "      fill: #1967D2;\n",
              "      height: 32px;\n",
              "      padding: 0 0 0 0;\n",
              "      width: 32px;\n",
              "    }\n",
              "\n",
              "    .colab-df-convert:hover {\n",
              "      background-color: #E2EBFA;\n",
              "      box-shadow: 0px 1px 2px rgba(60, 64, 67, 0.3), 0px 1px 3px 1px rgba(60, 64, 67, 0.15);\n",
              "      fill: #174EA6;\n",
              "    }\n",
              "\n",
              "    .colab-df-buttons div {\n",
              "      margin-bottom: 4px;\n",
              "    }\n",
              "\n",
              "    [theme=dark] .colab-df-convert {\n",
              "      background-color: #3B4455;\n",
              "      fill: #D2E3FC;\n",
              "    }\n",
              "\n",
              "    [theme=dark] .colab-df-convert:hover {\n",
              "      background-color: #434B5C;\n",
              "      box-shadow: 0px 1px 3px 1px rgba(0, 0, 0, 0.15);\n",
              "      filter: drop-shadow(0px 1px 2px rgba(0, 0, 0, 0.3));\n",
              "      fill: #FFFFFF;\n",
              "    }\n",
              "  </style>\n",
              "\n",
              "    <script>\n",
              "      const buttonEl =\n",
              "        document.querySelector('#df-9bdc30e6-33d1-4c9a-948a-31a7b781f643 button.colab-df-convert');\n",
              "      buttonEl.style.display =\n",
              "        google.colab.kernel.accessAllowed ? 'block' : 'none';\n",
              "\n",
              "      async function convertToInteractive(key) {\n",
              "        const element = document.querySelector('#df-9bdc30e6-33d1-4c9a-948a-31a7b781f643');\n",
              "        const dataTable =\n",
              "          await google.colab.kernel.invokeFunction('convertToInteractive',\n",
              "                                                    [key], {});\n",
              "        if (!dataTable) return;\n",
              "\n",
              "        const docLinkHtml = 'Like what you see? Visit the ' +\n",
              "          '<a target=\"_blank\" href=https://colab.research.google.com/notebooks/data_table.ipynb>data table notebook</a>'\n",
              "          + ' to learn more about interactive tables.';\n",
              "        element.innerHTML = '';\n",
              "        dataTable['output_type'] = 'display_data';\n",
              "        await google.colab.output.renderOutput(dataTable, element);\n",
              "        const docLink = document.createElement('div');\n",
              "        docLink.innerHTML = docLinkHtml;\n",
              "        element.appendChild(docLink);\n",
              "      }\n",
              "    </script>\n",
              "  </div>\n",
              "\n",
              "\n",
              "<div id=\"df-2c72bc96-7669-4530-810c-a42faef2f651\">\n",
              "  <button class=\"colab-df-quickchart\" onclick=\"quickchart('df-2c72bc96-7669-4530-810c-a42faef2f651')\"\n",
              "            title=\"Suggest charts\"\n",
              "            style=\"display:none;\">\n",
              "\n",
              "<svg xmlns=\"http://www.w3.org/2000/svg\" height=\"24px\"viewBox=\"0 0 24 24\"\n",
              "     width=\"24px\">\n",
              "    <g>\n",
              "        <path d=\"M19 3H5c-1.1 0-2 .9-2 2v14c0 1.1.9 2 2 2h14c1.1 0 2-.9 2-2V5c0-1.1-.9-2-2-2zM9 17H7v-7h2v7zm4 0h-2V7h2v10zm4 0h-2v-4h2v4z\"/>\n",
              "    </g>\n",
              "</svg>\n",
              "  </button>\n",
              "\n",
              "<style>\n",
              "  .colab-df-quickchart {\n",
              "      --bg-color: #E8F0FE;\n",
              "      --fill-color: #1967D2;\n",
              "      --hover-bg-color: #E2EBFA;\n",
              "      --hover-fill-color: #174EA6;\n",
              "      --disabled-fill-color: #AAA;\n",
              "      --disabled-bg-color: #DDD;\n",
              "  }\n",
              "\n",
              "  [theme=dark] .colab-df-quickchart {\n",
              "      --bg-color: #3B4455;\n",
              "      --fill-color: #D2E3FC;\n",
              "      --hover-bg-color: #434B5C;\n",
              "      --hover-fill-color: #FFFFFF;\n",
              "      --disabled-bg-color: #3B4455;\n",
              "      --disabled-fill-color: #666;\n",
              "  }\n",
              "\n",
              "  .colab-df-quickchart {\n",
              "    background-color: var(--bg-color);\n",
              "    border: none;\n",
              "    border-radius: 50%;\n",
              "    cursor: pointer;\n",
              "    display: none;\n",
              "    fill: var(--fill-color);\n",
              "    height: 32px;\n",
              "    padding: 0;\n",
              "    width: 32px;\n",
              "  }\n",
              "\n",
              "  .colab-df-quickchart:hover {\n",
              "    background-color: var(--hover-bg-color);\n",
              "    box-shadow: 0 1px 2px rgba(60, 64, 67, 0.3), 0 1px 3px 1px rgba(60, 64, 67, 0.15);\n",
              "    fill: var(--button-hover-fill-color);\n",
              "  }\n",
              "\n",
              "  .colab-df-quickchart-complete:disabled,\n",
              "  .colab-df-quickchart-complete:disabled:hover {\n",
              "    background-color: var(--disabled-bg-color);\n",
              "    fill: var(--disabled-fill-color);\n",
              "    box-shadow: none;\n",
              "  }\n",
              "\n",
              "  .colab-df-spinner {\n",
              "    border: 2px solid var(--fill-color);\n",
              "    border-color: transparent;\n",
              "    border-bottom-color: var(--fill-color);\n",
              "    animation:\n",
              "      spin 1s steps(1) infinite;\n",
              "  }\n",
              "\n",
              "  @keyframes spin {\n",
              "    0% {\n",
              "      border-color: transparent;\n",
              "      border-bottom-color: var(--fill-color);\n",
              "      border-left-color: var(--fill-color);\n",
              "    }\n",
              "    20% {\n",
              "      border-color: transparent;\n",
              "      border-left-color: var(--fill-color);\n",
              "      border-top-color: var(--fill-color);\n",
              "    }\n",
              "    30% {\n",
              "      border-color: transparent;\n",
              "      border-left-color: var(--fill-color);\n",
              "      border-top-color: var(--fill-color);\n",
              "      border-right-color: var(--fill-color);\n",
              "    }\n",
              "    40% {\n",
              "      border-color: transparent;\n",
              "      border-right-color: var(--fill-color);\n",
              "      border-top-color: var(--fill-color);\n",
              "    }\n",
              "    60% {\n",
              "      border-color: transparent;\n",
              "      border-right-color: var(--fill-color);\n",
              "    }\n",
              "    80% {\n",
              "      border-color: transparent;\n",
              "      border-right-color: var(--fill-color);\n",
              "      border-bottom-color: var(--fill-color);\n",
              "    }\n",
              "    90% {\n",
              "      border-color: transparent;\n",
              "      border-bottom-color: var(--fill-color);\n",
              "    }\n",
              "  }\n",
              "</style>\n",
              "\n",
              "  <script>\n",
              "    async function quickchart(key) {\n",
              "      const quickchartButtonEl =\n",
              "        document.querySelector('#' + key + ' button');\n",
              "      quickchartButtonEl.disabled = true;  // To prevent multiple clicks.\n",
              "      quickchartButtonEl.classList.add('colab-df-spinner');\n",
              "      try {\n",
              "        const charts = await google.colab.kernel.invokeFunction(\n",
              "            'suggestCharts', [key], {});\n",
              "      } catch (error) {\n",
              "        console.error('Error during call to suggestCharts:', error);\n",
              "      }\n",
              "      quickchartButtonEl.classList.remove('colab-df-spinner');\n",
              "      quickchartButtonEl.classList.add('colab-df-quickchart-complete');\n",
              "    }\n",
              "    (() => {\n",
              "      let quickchartButtonEl =\n",
              "        document.querySelector('#df-2c72bc96-7669-4530-810c-a42faef2f651 button');\n",
              "      quickchartButtonEl.style.display =\n",
              "        google.colab.kernel.accessAllowed ? 'block' : 'none';\n",
              "    })();\n",
              "  </script>\n",
              "</div>\n",
              "\n",
              "    </div>\n",
              "  </div>\n"
            ]
          },
          "metadata": {},
          "execution_count": 3
        }
      ]
    },
    {
      "cell_type": "code",
      "source": [
        "# plot the points\n",
        "plt.scatter(data['Feature'], data['Target'])\n",
        "plt.xlabel('Feature')\n",
        "plt.ylabel('Target')\n",
        "\n",
        "plt.show()"
      ],
      "metadata": {
        "colab": {
          "base_uri": "https://localhost:8080/",
          "height": 449
        },
        "id": "ipeXKSxvJHNF",
        "outputId": "9b0f46c9-36f4-4745-d00a-f729ae9a9237"
      },
      "execution_count": 4,
      "outputs": [
        {
          "output_type": "display_data",
          "data": {
            "text/plain": [
              "<Figure size 640x480 with 1 Axes>"
            ],
            "image/png": "[encoded data removed]"
          },
          "metadata": {}
        }
      ]
    },
    {
      "cell_type": "markdown",
      "source": [
        "*In this case we can see the generated data fits in a perfect straight line but it is usually not the case in real datasets*\n"
      ],
      "metadata": {
        "id": "msqWIt-FKLg8"
      }
    },
    {
      "cell_type": "code",
      "source": [
        "x = data['Feature'].values.reshape(-1, 1) # doing this reshape because the built-in regression model expects 2d array\n",
        "y = data['Target'].values.reshape(-1, 1)\n",
        "\n",
        "# Divide the dataset into training and testing datasets\n",
        "from sklearn.model_selection import train_test_split\n",
        "train_x, test_x, train_y, test_y = train_test_split(\n",
        "    x, y, test_size = 0.2\n",
        ")\n",
        "\n",
        "train_x.shape, train_y.shape"
      ],
      "metadata": {
        "colab": {
          "base_uri": "https://localhost:8080/"
        },
        "id": "Zgc0RK1tJ9F3",
        "outputId": "4f73472f-38f6-445f-eb27-d0c6edf9941b"
      },
      "execution_count": 5,
      "outputs": [
        {
          "output_type": "execute_result",
          "data": {
            "text/plain": [
              "((80, 1), (80, 1))"
            ]
          },
          "metadata": {},
          "execution_count": 5
        }
      ]
    },
    {
      "cell_type": "code",
      "source": [
        "# Using built-in Linear Regression method from sklearn\n",
        "from sklearn.linear_model import LinearRegression\n",
        "lr_model = LinearRegression()\n",
        "\n",
        "# training the model\n",
        "lr_model.fit(train_x, train_y)\n",
        "print('Training Completed.')"
      ],
      "metadata": {
        "colab": {
          "base_uri": "https://localhost:8080/"
        },
        "id": "CmxBD7eXL14A",
        "outputId": "c7d6a47b-954d-436b-f8e3-98ff55d6bc27"
      },
      "execution_count": 6,
      "outputs": [
        {
          "output_type": "stream",
          "name": "stdout",
          "text": [
            "Training Completed.\n"
          ]
        }
      ]
    },
    {
      "cell_type": "markdown",
      "source": [
        "Prediction for each of the `test_x` array values, and then comparing them with the `test_y`(the actual output), we will use mean absolute error for this comparison."
      ],
      "metadata": {
        "id": "4_MeTuHyOf4i"
      }
    },
    {
      "cell_type": "code",
      "source": [
        "lr_result = lr_model.predict(test_x)\n",
        "result = pd.DataFrame(\n",
        "    data = {\n",
        "        'Actual Value' : [x[0] for x in test_y],\n",
        "        'Predicted_value' : [x[0] for x in lr_result],\n",
        "        'Error' : [abs(np.round(x[0] - y[0], 5)) for x, y in zip(test_y, lr_result)]\n",
        "        }\n",
        "    )\n",
        "\n",
        "result.head(10)"
      ],
      "metadata": {
        "colab": {
          "base_uri": "https://localhost:8080/",
          "height": 363
        },
        "id": "UFaf4vTQMfmt",
        "outputId": "bb53a7ee-9a1b-419f-8163-f6b5e8843985"
      },
      "execution_count": 7,
      "outputs": [
        {
          "output_type": "execute_result",
          "data": {
            "text/plain": [
              "   Actual Value  Predicted_value    Error\n",
              "0         -9.36        -9.364397  0.00440\n",
              "1        -38.45       -38.455558  0.00556\n",
              "2        -50.58       -50.576760  0.00324\n",
              "3         39.12        39.121800  0.00180\n",
              "4        -25.12       -25.121819  0.00182\n",
              "5          3.97         3.969342  0.00066\n",
              "6         23.36        23.364378  0.00438\n",
              "7         51.24        51.243002  0.00300\n",
              "8         37.91        37.909263  0.00074\n",
              "9         42.76        42.758022  0.00198"
            ],
            "text/html": [
              "\n",
              "  <div id=\"df-09e10812-51d6-491c-8ae5-6b3a6885da79\" class=\"colab-df-container\">\n",
              "    <div>\n",
              "<style scoped>\n",
              "    .dataframe tbody tr th:only-of-type {\n",
              "        vertical-align: middle;\n",
              "    }\n",
              "\n",
              "    .dataframe tbody tr th {\n",
              "        vertical-align: top;\n",
              "    }\n",
              "\n",
              "    .dataframe thead th {\n",
              "        text-align: right;\n",
              "    }\n",
              "</style>\n",
              "<table border=\"1\" class=\"dataframe\">\n",
              "  <thead>\n",
              "    <tr style=\"text-align: right;\">\n",
              "      <th></th>\n",
              "      <th>Actual Value</th>\n",
              "      <th>Predicted_value</th>\n",
              "      <th>Error</th>\n",
              "    </tr>\n",
              "  </thead>\n",
              "  <tbody>\n",
              "    <tr>\n",
              "      <th>0</th>\n",
              "      <td>-9.36</td>\n",
              "      <td>-9.364397</td>\n",
              "      <td>0.00440</td>\n",
              "    </tr>\n",
              "    <tr>\n",
              "      <th>1</th>\n",
              "      <td>-38.45</td>\n",
              "      <td>-38.455558</td>\n",
              "      <td>0.00556</td>\n",
              "    </tr>\n",
              "    <tr>\n",
              "      <th>2</th>\n",
              "      <td>-50.58</td>\n",
              "      <td>-50.576760</td>\n",
              "      <td>0.00324</td>\n",
              "    </tr>\n",
              "    <tr>\n",
              "      <th>3</th>\n",
              "      <td>39.12</td>\n",
              "      <td>39.121800</td>\n",
              "      <td>0.00180</td>\n",
              "    </tr>\n",
              "    <tr>\n",
              "      <th>4</th>\n",
              "      <td>-25.12</td>\n",
              "      <td>-25.121819</td>\n",
              "      <td>0.00182</td>\n",
              "    </tr>\n",
              "    <tr>\n",
              "      <th>5</th>\n",
              "      <td>3.97</td>\n",
              "      <td>3.969342</td>\n",
              "      <td>0.00066</td>\n",
              "    </tr>\n",
              "    <tr>\n",
              "      <th>6</th>\n",
              "      <td>23.36</td>\n",
              "      <td>23.364378</td>\n",
              "      <td>0.00438</td>\n",
              "    </tr>\n",
              "    <tr>\n",
              "      <th>7</th>\n",
              "      <td>51.24</td>\n",
              "      <td>51.243002</td>\n",
              "      <td>0.00300</td>\n",
              "    </tr>\n",
              "    <tr>\n",
              "      <th>8</th>\n",
              "      <td>37.91</td>\n",
              "      <td>37.909263</td>\n",
              "      <td>0.00074</td>\n",
              "    </tr>\n",
              "    <tr>\n",
              "      <th>9</th>\n",
              "      <td>42.76</td>\n",
              "      <td>42.758022</td>\n",
              "      <td>0.00198</td>\n",
              "    </tr>\n",
              "  </tbody>\n",
              "</table>\n",
              "</div>\n",
              "    <div class=\"colab-df-buttons\">\n",
              "\n",
              "  <div class=\"colab-df-container\">\n",
              "    <button class=\"colab-df-convert\" onclick=\"convertToInteractive('df-09e10812-51d6-491c-8ae5-6b3a6885da79')\"\n",
              "            title=\"Convert this dataframe to an interactive table.\"\n",
              "            style=\"display:none;\">\n",
              "\n",
              "  <svg xmlns=\"http://www.w3.org/2000/svg\" height=\"24px\" viewBox=\"0 -960 960 960\">\n",
              "    <path d=\"M120-120v-720h720v720H120Zm60-500h600v-160H180v160Zm220 220h160v-160H400v160Zm0 220h160v-160H400v160ZM180-400h160v-160H180v160Zm440 0h160v-160H620v160ZM180-180h160v-160H180v160Zm440 0h160v-160H620v160Z\"/>\n",
              "  </svg>\n",
              "    </button>\n",
              "\n",
              "  <style>\n",
              "    .colab-df-container {\n",
              "      display:flex;\n",
              "      gap: 12px;\n",
              "    }\n",
              "\n",
              "    .colab-df-convert {\n",
              "      background-color: #E8F0FE;\n",
              "      border: none;\n",
              "      border-radius: 50%;\n",
              "      cursor: pointer;\n",
              "      display: none;\n",
              "      fill: #1967D2;\n",
              "      height: 32px;\n",
              "      padding: 0 0 0 0;\n",
              "      width: 32px;\n",
              "    }\n",
              "\n",
              "    .colab-df-convert:hover {\n",
              "      background-color: #E2EBFA;\n",
              "      box-shadow: 0px 1px 2px rgba(60, 64, 67, 0.3), 0px 1px 3px 1px rgba(60, 64, 67, 0.15);\n",
              "      fill: #174EA6;\n",
              "    }\n",
              "\n",
              "    .colab-df-buttons div {\n",
              "      margin-bottom: 4px;\n",
              "    }\n",
              "\n",
              "    [theme=dark] .colab-df-convert {\n",
              "      background-color: #3B4455;\n",
              "      fill: #D2E3FC;\n",
              "    }\n",
              "\n",
              "    [theme=dark] .colab-df-convert:hover {\n",
              "      background-color: #434B5C;\n",
              "      box-shadow: 0px 1px 3px 1px rgba(0, 0, 0, 0.15);\n",
              "      filter: drop-shadow(0px 1px 2px rgba(0, 0, 0, 0.3));\n",
              "      fill: #FFFFFF;\n",
              "    }\n",
              "  </style>\n",
              "\n",
              "    <script>\n",
              "      const buttonEl =\n",
              "        document.querySelector('#df-09e10812-51d6-491c-8ae5-6b3a6885da79 button.colab-df-convert');\n",
              "      buttonEl.style.display =\n",
              "        google.colab.kernel.accessAllowed ? 'block' : 'none';\n",
              "\n",
              "      async function convertToInteractive(key) {\n",
              "        const element = document.querySelector('#df-09e10812-51d6-491c-8ae5-6b3a6885da79');\n",
              "        const dataTable =\n",
              "          await google.colab.kernel.invokeFunction('convertToInteractive',\n",
              "                                                    [key], {});\n",
              "        if (!dataTable) return;\n",
              "\n",
              "        const docLinkHtml = 'Like what you see? Visit the ' +\n",
              "          '<a target=\"_blank\" href=https://colab.research.google.com/notebooks/data_table.ipynb>data table notebook</a>'\n",
              "          + ' to learn more about interactive tables.';\n",
              "        element.innerHTML = '';\n",
              "        dataTable['output_type'] = 'display_data';\n",
              "        await google.colab.output.renderOutput(dataTable, element);\n",
              "        const docLink = document.createElement('div');\n",
              "        docLink.innerHTML = docLinkHtml;\n",
              "        element.appendChild(docLink);\n",
              "      }\n",
              "    </script>\n",
              "  </div>\n",
              "\n",
              "\n",
              "<div id=\"df-896a98a0-8b4f-4c16-bef8-07082b559f80\">\n",
              "  <button class=\"colab-df-quickchart\" onclick=\"quickchart('df-896a98a0-8b4f-4c16-bef8-07082b559f80')\"\n",
              "            title=\"Suggest charts\"\n",
              "            style=\"display:none;\">\n",
              "\n",
              "<svg xmlns=\"http://www.w3.org/2000/svg\" height=\"24px\"viewBox=\"0 0 24 24\"\n",
              "     width=\"24px\">\n",
              "    <g>\n",
              "        <path d=\"M19 3H5c-1.1 0-2 .9-2 2v14c0 1.1.9 2 2 2h14c1.1 0 2-.9 2-2V5c0-1.1-.9-2-2-2zM9 17H7v-7h2v7zm4 0h-2V7h2v10zm4 0h-2v-4h2v4z\"/>\n",
              "    </g>\n",
              "</svg>\n",
              "  </button>\n",
              "\n",
              "<style>\n",
              "  .colab-df-quickchart {\n",
              "      --bg-color: #E8F0FE;\n",
              "      --fill-color: #1967D2;\n",
              "      --hover-bg-color: #E2EBFA;\n",
              "      --hover-fill-color: #174EA6;\n",
              "      --disabled-fill-color: #AAA;\n",
              "      --disabled-bg-color: #DDD;\n",
              "  }\n",
              "\n",
              "  [theme=dark] .colab-df-quickchart {\n",
              "      --bg-color: #3B4455;\n",
              "      --fill-color: #D2E3FC;\n",
              "      --hover-bg-color: #434B5C;\n",
              "      --hover-fill-color: #FFFFFF;\n",
              "      --disabled-bg-color: #3B4455;\n",
              "      --disabled-fill-color: #666;\n",
              "  }\n",
              "\n",
              "  .colab-df-quickchart {\n",
              "    background-color: var(--bg-color);\n",
              "    border: none;\n",
              "    border-radius: 50%;\n",
              "    cursor: pointer;\n",
              "    display: none;\n",
              "    fill: var(--fill-color);\n",
              "    height: 32px;\n",
              "    padding: 0;\n",
              "    width: 32px;\n",
              "  }\n",
              "\n",
              "  .colab-df-quickchart:hover {\n",
              "    background-color: var(--hover-bg-color);\n",
              "    box-shadow: 0 1px 2px rgba(60, 64, 67, 0.3), 0 1px 3px 1px rgba(60, 64, 67, 0.15);\n",
              "    fill: var(--button-hover-fill-color);\n",
              "  }\n",
              "\n",
              "  .colab-df-quickchart-complete:disabled,\n",
              "  .colab-df-quickchart-complete:disabled:hover {\n",
              "    background-color: var(--disabled-bg-color);\n",
              "    fill: var(--disabled-fill-color);\n",
              "    box-shadow: none;\n",
              "  }\n",
              "\n",
              "  .colab-df-spinner {\n",
              "    border: 2px solid var(--fill-color);\n",
              "    border-color: transparent;\n",
              "    border-bottom-color: var(--fill-color);\n",
              "    animation:\n",
              "      spin 1s steps(1) infinite;\n",
              "  }\n",
              "\n",
              "  @keyframes spin {\n",
              "    0% {\n",
              "      border-color: transparent;\n",
              "      border-bottom-color: var(--fill-color);\n",
              "      border-left-color: var(--fill-color);\n",
              "    }\n",
              "    20% {\n",
              "      border-color: transparent;\n",
              "      border-left-color: var(--fill-color);\n",
              "      border-top-color: var(--fill-color);\n",
              "    }\n",
              "    30% {\n",
              "      border-color: transparent;\n",
              "      border-left-color: var(--fill-color);\n",
              "      border-top-color: var(--fill-color);\n",
              "      border-right-color: var(--fill-color);\n",
              "    }\n",
              "    40% {\n",
              "      border-color: transparent;\n",
              "      border-right-color: var(--fill-color);\n",
              "      border-top-color: var(--fill-color);\n",
              "    }\n",
              "    60% {\n",
              "      border-color: transparent;\n",
              "      border-right-color: var(--fill-color);\n",
              "    }\n",
              "    80% {\n",
              "      border-color: transparent;\n",
              "      border-right-color: var(--fill-color);\n",
              "      border-bottom-color: var(--fill-color);\n",
              "    }\n",
              "    90% {\n",
              "      border-color: transparent;\n",
              "      border-bottom-color: var(--fill-color);\n",
              "    }\n",
              "  }\n",
              "</style>\n",
              "\n",
              "  <script>\n",
              "    async function quickchart(key) {\n",
              "      const quickchartButtonEl =\n",
              "        document.querySelector('#' + key + ' button');\n",
              "      quickchartButtonEl.disabled = true;  // To prevent multiple clicks.\n",
              "      quickchartButtonEl.classList.add('colab-df-spinner');\n",
              "      try {\n",
              "        const charts = await google.colab.kernel.invokeFunction(\n",
              "            'suggestCharts', [key], {});\n",
              "      } catch (error) {\n",
              "        console.error('Error during call to suggestCharts:', error);\n",
              "      }\n",
              "      quickchartButtonEl.classList.remove('colab-df-spinner');\n",
              "      quickchartButtonEl.classList.add('colab-df-quickchart-complete');\n",
              "    }\n",
              "    (() => {\n",
              "      let quickchartButtonEl =\n",
              "        document.querySelector('#df-896a98a0-8b4f-4c16-bef8-07082b559f80 button');\n",
              "      quickchartButtonEl.style.display =\n",
              "        google.colab.kernel.accessAllowed ? 'block' : 'none';\n",
              "    })();\n",
              "  </script>\n",
              "</div>\n",
              "\n",
              "    </div>\n",
              "  </div>\n"
            ]
          },
          "metadata": {},
          "execution_count": 7
        }
      ]
    },
    {
      "cell_type": "markdown",
      "source": [
        "we can see we are getting some error, which is negligible, but we also know that this data was already in a perfect straight line shape, so this doesn't help much. Working on a real dataset would give us some insights about the errors with this approach."
      ],
      "metadata": {
        "id": "kaAZRCWxP_IZ"
      }
    },
    {
      "cell_type": "code",
      "source": [
        "cars = pd.read_csv('https://raw.githubusercontent.com/krahul2024/machine-learning/main/datasets/Used%20Car%20Dataset.csv')\n",
        "cars.head()"
      ],
      "metadata": {
        "id": "5PFY12gkOcUX",
        "colab": {
          "base_uri": "https://localhost:8080/",
          "height": 556
        },
        "outputId": "24a477d1-914a-47d7-a138-69b4988b3580"
      },
      "execution_count": 8,
      "outputs": [
        {
          "output_type": "execute_result",
          "data": {
            "text/plain": [
              "   Unnamed: 0                                           car_name  \\\n",
              "0           0                    2017 Mercedes-Benz S-Class S400   \n",
              "1           1  2020 Nissan Magnite Turbo CVT XV Premium Opt BSVI   \n",
              "2           2                       2018 BMW X1 sDrive 20d xLine   \n",
              "3           3                           2019 Kia Seltos GTX Plus   \n",
              "4           4                    2019 Skoda Superb LK 1.8 TSI AT   \n",
              "\n",
              "  registration_year insurance_validity fuel_type  seats  kms_driven  \\\n",
              "0            Jul-17      Comprehensive    Petrol      5       56000   \n",
              "1            Jan-21      Comprehensive    Petrol      5       30615   \n",
              "2            Sep-18      Comprehensive    Diesel      5       24000   \n",
              "3            Dec-19      Comprehensive    Petrol      5       18378   \n",
              "4            Aug-19      Comprehensive    Petrol      5       44900   \n",
              "\n",
              "    ownsership transmission manufacturing_year  mileage(kmpl)  engine(cc)  \\\n",
              "0  First Owner    Automatic               2017           7.81      2996.0   \n",
              "1  First Owner    Automatic               2020          17.40       999.0   \n",
              "2  First Owner    Automatic               2018          20.68      1995.0   \n",
              "3  First Owner       Manual               2019          16.50      1353.0   \n",
              "4  First Owner    Automatic               2019          14.67      1798.0   \n",
              "\n",
              "   max_power(bhp)  torque(Nm)  price(in lakhs)  \n",
              "0          2996.0       333.0            63.75  \n",
              "1           999.0      9863.0             8.99  \n",
              "2          1995.0       188.0            23.75  \n",
              "3          1353.0     13808.0            13.56  \n",
              "4          1798.0     17746.0            24.00  "
            ],
            "text/html": [
              "\n",
              "  <div id=\"df-82b36c55-230a-45cf-beea-143808576019\" class=\"colab-df-container\">\n",
              "    <div>\n",
              "<style scoped>\n",
              "    .dataframe tbody tr th:only-of-type {\n",
              "        vertical-align: middle;\n",
              "    }\n",
              "\n",
              "    .dataframe tbody tr th {\n",
              "        vertical-align: top;\n",
              "    }\n",
              "\n",
              "    .dataframe thead th {\n",
              "        text-align: right;\n",
              "    }\n",
              "</style>\n",
              "<table border=\"1\" class=\"dataframe\">\n",
              "  <thead>\n",
              "    <tr style=\"text-align: right;\">\n",
              "      <th></th>\n",
              "      <th>Unnamed: 0</th>\n",
              "      <th>car_name</th>\n",
              "      <th>registration_year</th>\n",
              "      <th>insurance_validity</th>\n",
              "      <th>fuel_type</th>\n",
              "      <th>seats</th>\n",
              "      <th>kms_driven</th>\n",
              "      <th>ownsership</th>\n",
              "      <th>transmission</th>\n",
              "      <th>manufacturing_year</th>\n",
              "      <th>mileage(kmpl)</th>\n",
              "      <th>engine(cc)</th>\n",
              "      <th>max_power(bhp)</th>\n",
              "      <th>torque(Nm)</th>\n",
              "      <th>price(in lakhs)</th>\n",
              "    </tr>\n",
              "  </thead>\n",
              "  <tbody>\n",
              "    <tr>\n",
              "      <th>0</th>\n",
              "      <td>0</td>\n",
              "      <td>2017 Mercedes-Benz S-Class S400</td>\n",
              "      <td>Jul-17</td>\n",
              "      <td>Comprehensive</td>\n",
              "      <td>Petrol</td>\n",
              "      <td>5</td>\n",
              "      <td>56000</td>\n",
              "      <td>First Owner</td>\n",
              "      <td>Automatic</td>\n",
              "      <td>2017</td>\n",
              "      <td>7.81</td>\n",
              "      <td>2996.0</td>\n",
              "      <td>2996.0</td>\n",
              "      <td>333.0</td>\n",
              "      <td>63.75</td>\n",
              "    </tr>\n",
              "    <tr>\n",
              "      <th>1</th>\n",
              "      <td>1</td>\n",
              "      <td>2020 Nissan Magnite Turbo CVT XV Premium Opt BSVI</td>\n",
              "      <td>Jan-21</td>\n",
              "      <td>Comprehensive</td>\n",
              "      <td>Petrol</td>\n",
              "      <td>5</td>\n",
              "      <td>30615</td>\n",
              "      <td>First Owner</td>\n",
              "      <td>Automatic</td>\n",
              "      <td>2020</td>\n",
              "      <td>17.40</td>\n",
              "      <td>999.0</td>\n",
              "      <td>999.0</td>\n",
              "      <td>9863.0</td>\n",
              "      <td>8.99</td>\n",
              "    </tr>\n",
              "    <tr>\n",
              "      <th>2</th>\n",
              "      <td>2</td>\n",
              "      <td>2018 BMW X1 sDrive 20d xLine</td>\n",
              "      <td>Sep-18</td>\n",
              "      <td>Comprehensive</td>\n",
              "      <td>Diesel</td>\n",
              "      <td>5</td>\n",
              "      <td>24000</td>\n",
              "      <td>First Owner</td>\n",
              "      <td>Automatic</td>\n",
              "      <td>2018</td>\n",
              "      <td>20.68</td>\n",
              "      <td>1995.0</td>\n",
              "      <td>1995.0</td>\n",
              "      <td>188.0</td>\n",
              "      <td>23.75</td>\n",
              "    </tr>\n",
              "    <tr>\n",
              "      <th>3</th>\n",
              "      <td>3</td>\n",
              "      <td>2019 Kia Seltos GTX Plus</td>\n",
              "      <td>Dec-19</td>\n",
              "      <td>Comprehensive</td>\n",
              "      <td>Petrol</td>\n",
              "      <td>5</td>\n",
              "      <td>18378</td>\n",
              "      <td>First Owner</td>\n",
              "      <td>Manual</td>\n",
              "      <td>2019</td>\n",
              "      <td>16.50</td>\n",
              "      <td>1353.0</td>\n",
              "      <td>1353.0</td>\n",
              "      <td>13808.0</td>\n",
              "      <td>13.56</td>\n",
              "    </tr>\n",
              "    <tr>\n",
              "      <th>4</th>\n",
              "      <td>4</td>\n",
              "      <td>2019 Skoda Superb LK 1.8 TSI AT</td>\n",
              "      <td>Aug-19</td>\n",
              "      <td>Comprehensive</td>\n",
              "      <td>Petrol</td>\n",
              "      <td>5</td>\n",
              "      <td>44900</td>\n",
              "      <td>First Owner</td>\n",
              "      <td>Automatic</td>\n",
              "      <td>2019</td>\n",
              "      <td>14.67</td>\n",
              "      <td>1798.0</td>\n",
              "      <td>1798.0</td>\n",
              "      <td>17746.0</td>\n",
              "      <td>24.00</td>\n",
              "    </tr>\n",
              "  </tbody>\n",
              "</table>\n",
              "</div>\n",
              "    <div class=\"colab-df-buttons\">\n",
              "\n",
              "  <div class=\"colab-df-container\">\n",
              "    <button class=\"colab-df-convert\" onclick=\"convertToInteractive('df-82b36c55-230a-45cf-beea-143808576019')\"\n",
              "            title=\"Convert this dataframe to an interactive table.\"\n",
              "            style=\"display:none;\">\n",
              "\n",
              "  <svg xmlns=\"http://www.w3.org/2000/svg\" height=\"24px\" viewBox=\"0 -960 960 960\">\n",
              "    <path d=\"M120-120v-720h720v720H120Zm60-500h600v-160H180v160Zm220 220h160v-160H400v160Zm0 220h160v-160H400v160ZM180-400h160v-160H180v160Zm440 0h160v-160H620v160ZM180-180h160v-160H180v160Zm440 0h160v-160H620v160Z\"/>\n",
              "  </svg>\n",
              "    </button>\n",
              "\n",
              "  <style>\n",
              "    .colab-df-container {\n",
              "      display:flex;\n",
              "      gap: 12px;\n",
              "    }\n",
              "\n",
              "    .colab-df-convert {\n",
              "      background-color: #E8F0FE;\n",
              "      border: none;\n",
              "      border-radius: 50%;\n",
              "      cursor: pointer;\n",
              "      display: none;\n",
              "      fill: #1967D2;\n",
              "      height: 32px;\n",
              "      padding: 0 0 0 0;\n",
              "      width: 32px;\n",
              "    }\n",
              "\n",
              "    .colab-df-convert:hover {\n",
              "      background-color: #E2EBFA;\n",
              "      box-shadow: 0px 1px 2px rgba(60, 64, 67, 0.3), 0px 1px 3px 1px rgba(60, 64, 67, 0.15);\n",
              "      fill: #174EA6;\n",
              "    }\n",
              "\n",
              "    .colab-df-buttons div {\n",
              "      margin-bottom: 4px;\n",
              "    }\n",
              "\n",
              "    [theme=dark] .colab-df-convert {\n",
              "      background-color: #3B4455;\n",
              "      fill: #D2E3FC;\n",
              "    }\n",
              "\n",
              "    [theme=dark] .colab-df-convert:hover {\n",
              "      background-color: #434B5C;\n",
              "      box-shadow: 0px 1px 3px 1px rgba(0, 0, 0, 0.15);\n",
              "      filter: drop-shadow(0px 1px 2px rgba(0, 0, 0, 0.3));\n",
              "      fill: #FFFFFF;\n",
              "    }\n",
              "  </style>\n",
              "\n",
              "    <script>\n",
              "      const buttonEl =\n",
              "        document.querySelector('#df-82b36c55-230a-45cf-beea-143808576019 button.colab-df-convert');\n",
              "      buttonEl.style.display =\n",
              "        google.colab.kernel.accessAllowed ? 'block' : 'none';\n",
              "\n",
              "      async function convertToInteractive(key) {\n",
              "        const element = document.querySelector('#df-82b36c55-230a-45cf-beea-143808576019');\n",
              "        const dataTable =\n",
              "          await google.colab.kernel.invokeFunction('convertToInteractive',\n",
              "                                                    [key], {});\n",
              "        if (!dataTable) return;\n",
              "\n",
              "        const docLinkHtml = 'Like what you see? Visit the ' +\n",
              "          '<a target=\"_blank\" href=https://colab.research.google.com/notebooks/data_table.ipynb>data table notebook</a>'\n",
              "          + ' to learn more about interactive tables.';\n",
              "        element.innerHTML = '';\n",
              "        dataTable['output_type'] = 'display_data';\n",
              "        await google.colab.output.renderOutput(dataTable, element);\n",
              "        const docLink = document.createElement('div');\n",
              "        docLink.innerHTML = docLinkHtml;\n",
              "        element.appendChild(docLink);\n",
              "      }\n",
              "    </script>\n",
              "  </div>\n",
              "\n",
              "\n",
              "<div id=\"df-451475f0-c368-44bc-ad79-11565b76f8bd\">\n",
              "  <button class=\"colab-df-quickchart\" onclick=\"quickchart('df-451475f0-c368-44bc-ad79-11565b76f8bd')\"\n",
              "            title=\"Suggest charts\"\n",
              "            style=\"display:none;\">\n",
              "\n",
              "<svg xmlns=\"http://www.w3.org/2000/svg\" height=\"24px\"viewBox=\"0 0 24 24\"\n",
              "     width=\"24px\">\n",
              "    <g>\n",
              "        <path d=\"M19 3H5c-1.1 0-2 .9-2 2v14c0 1.1.9 2 2 2h14c1.1 0 2-.9 2-2V5c0-1.1-.9-2-2-2zM9 17H7v-7h2v7zm4 0h-2V7h2v10zm4 0h-2v-4h2v4z\"/>\n",
              "    </g>\n",
              "</svg>\n",
              "  </button>\n",
              "\n",
              "<style>\n",
              "  .colab-df-quickchart {\n",
              "      --bg-color: #E8F0FE;\n",
              "      --fill-color: #1967D2;\n",
              "      --hover-bg-color: #E2EBFA;\n",
              "      --hover-fill-color: #174EA6;\n",
              "      --disabled-fill-color: #AAA;\n",
              "      --disabled-bg-color: #DDD;\n",
              "  }\n",
              "\n",
              "  [theme=dark] .colab-df-quickchart {\n",
              "      --bg-color: #3B4455;\n",
              "      --fill-color: #D2E3FC;\n",
              "      --hover-bg-color: #434B5C;\n",
              "      --hover-fill-color: #FFFFFF;\n",
              "      --disabled-bg-color: #3B4455;\n",
              "      --disabled-fill-color: #666;\n",
              "  }\n",
              "\n",
              "  .colab-df-quickchart {\n",
              "    background-color: var(--bg-color);\n",
              "    border: none;\n",
              "    border-radius: 50%;\n",
              "    cursor: pointer;\n",
              "    display: none;\n",
              "    fill: var(--fill-color);\n",
              "    height: 32px;\n",
              "    padding: 0;\n",
              "    width: 32px;\n",
              "  }\n",
              "\n",
              "  .colab-df-quickchart:hover {\n",
              "    background-color: var(--hover-bg-color);\n",
              "    box-shadow: 0 1px 2px rgba(60, 64, 67, 0.3), 0 1px 3px 1px rgba(60, 64, 67, 0.15);\n",
              "    fill: var(--button-hover-fill-color);\n",
              "  }\n",
              "\n",
              "  .colab-df-quickchart-complete:disabled,\n",
              "  .colab-df-quickchart-complete:disabled:hover {\n",
              "    background-color: var(--disabled-bg-color);\n",
              "    fill: var(--disabled-fill-color);\n",
              "    box-shadow: none;\n",
              "  }\n",
              "\n",
              "  .colab-df-spinner {\n",
              "    border: 2px solid var(--fill-color);\n",
              "    border-color: transparent;\n",
              "    border-bottom-color: var(--fill-color);\n",
              "    animation:\n",
              "      spin 1s steps(1) infinite;\n",
              "  }\n",
              "\n",
              "  @keyframes spin {\n",
              "    0% {\n",
              "      border-color: transparent;\n",
              "      border-bottom-color: var(--fill-color);\n",
              "      border-left-color: var(--fill-color);\n",
              "    }\n",
              "    20% {\n",
              "      border-color: transparent;\n",
              "      border-left-color: var(--fill-color);\n",
              "      border-top-color: var(--fill-color);\n",
              "    }\n",
              "    30% {\n",
              "      border-color: transparent;\n",
              "      border-left-color: var(--fill-color);\n",
              "      border-top-color: var(--fill-color);\n",
              "      border-right-color: var(--fill-color);\n",
              "    }\n",
              "    40% {\n",
              "      border-color: transparent;\n",
              "      border-right-color: var(--fill-color);\n",
              "      border-top-color: var(--fill-color);\n",
              "    }\n",
              "    60% {\n",
              "      border-color: transparent;\n",
              "      border-right-color: var(--fill-color);\n",
              "    }\n",
              "    80% {\n",
              "      border-color: transparent;\n",
              "      border-right-color: var(--fill-color);\n",
              "      border-bottom-color: var(--fill-color);\n",
              "    }\n",
              "    90% {\n",
              "      border-color: transparent;\n",
              "      border-bottom-color: var(--fill-color);\n",
              "    }\n",
              "  }\n",
              "</style>\n",
              "\n",
              "  <script>\n",
              "    async function quickchart(key) {\n",
              "      const quickchartButtonEl =\n",
              "        document.querySelector('#' + key + ' button');\n",
              "      quickchartButtonEl.disabled = true;  // To prevent multiple clicks.\n",
              "      quickchartButtonEl.classList.add('colab-df-spinner');\n",
              "      try {\n",
              "        const charts = await google.colab.kernel.invokeFunction(\n",
              "            'suggestCharts', [key], {});\n",
              "      } catch (error) {\n",
              "        console.error('Error during call to suggestCharts:', error);\n",
              "      }\n",
              "      quickchartButtonEl.classList.remove('colab-df-spinner');\n",
              "      quickchartButtonEl.classList.add('colab-df-quickchart-complete');\n",
              "    }\n",
              "    (() => {\n",
              "      let quickchartButtonEl =\n",
              "        document.querySelector('#df-451475f0-c368-44bc-ad79-11565b76f8bd button');\n",
              "      quickchartButtonEl.style.display =\n",
              "        google.colab.kernel.accessAllowed ? 'block' : 'none';\n",
              "    })();\n",
              "  </script>\n",
              "</div>\n",
              "\n",
              "    </div>\n",
              "  </div>\n"
            ]
          },
          "metadata": {},
          "execution_count": 8
        }
      ]
    },
    {
      "cell_type": "code",
      "source": [
        "cars.isnull().sum()"
      ],
      "metadata": {
        "colab": {
          "base_uri": "https://localhost:8080/"
        },
        "id": "Q9KktfYJRqrM",
        "outputId": "a0c8de39-730a-4faa-970c-58f169ef43ee"
      },
      "execution_count": 9,
      "outputs": [
        {
          "output_type": "execute_result",
          "data": {
            "text/plain": [
              "Unnamed: 0            0\n",
              "car_name              0\n",
              "registration_year     0\n",
              "insurance_validity    0\n",
              "fuel_type             0\n",
              "seats                 0\n",
              "kms_driven            0\n",
              "ownsership            0\n",
              "transmission          0\n",
              "manufacturing_year    0\n",
              "mileage(kmpl)         3\n",
              "engine(cc)            3\n",
              "max_power(bhp)        3\n",
              "torque(Nm)            4\n",
              "price(in lakhs)       0\n",
              "dtype: int64"
            ]
          },
          "metadata": {},
          "execution_count": 9
        }
      ]
    },
    {
      "cell_type": "markdown",
      "source": [
        "There are no missing values in this dataset, so we can just use this dataset without getting into the data analysis part(as of now). To apply the single linear regression method on this dataset we can continue with kms_driven as a feature and price as the target."
      ],
      "metadata": {
        "id": "u6A3q1WyS1La"
      }
    },
    {
      "cell_type": "code",
      "source": [
        "x = cars['kms_driven'].values.reshape(-1, 1)\n",
        "y = cars['price(in lakhs)'].values.reshape(-1, 1)\n"
      ],
      "metadata": {
        "id": "vnqHdo_rR83T"
      },
      "execution_count": 10,
      "outputs": []
    },
    {
      "cell_type": "code",
      "source": [
        "train_x, test_x, train_y, test_y = train_test_split(x, y, test_size = 0.2)\n",
        "train_x.shape"
      ],
      "metadata": {
        "colab": {
          "base_uri": "https://localhost:8080/"
        },
        "id": "_Et1qiLvTRa6",
        "outputId": "c12f44cf-5f91-4ce8-e379-b2f0260a3898"
      },
      "execution_count": 11,
      "outputs": [
        {
          "output_type": "execute_result",
          "data": {
            "text/plain": [
              "(1242, 1)"
            ]
          },
          "metadata": {},
          "execution_count": 11
        }
      ]
    },
    {
      "cell_type": "code",
      "source": [
        "lr_model = LinearRegression()\n",
        "\n",
        "lr_model.fit(train_x, train_y)\n",
        "print('Done.')"
      ],
      "metadata": {
        "colab": {
          "base_uri": "https://localhost:8080/"
        },
        "id": "hrFhuMoXXbP3",
        "outputId": "46aaccc5-d16c-4c25-d385-dd1f0f711a8f"
      },
      "execution_count": 12,
      "outputs": [
        {
          "output_type": "stream",
          "name": "stdout",
          "text": [
            "Done.\n"
          ]
        }
      ]
    },
    {
      "cell_type": "code",
      "source": [
        "preds = lr_model.predict(test_x)\n",
        "\n",
        "results = pd.DataFrame(\n",
        "    data = {\n",
        "        'Actual' : [x[0] for x in test_y],\n",
        "        'Prediction' : [np.round(x[0], 3) for x in preds],\n",
        "        'Error' : [abs(np.round(x[0] - y[0], 3)) for x,y in zip(test_y, preds)]\n",
        "    }\n",
        ")\n",
        "\n",
        "results.head()"
      ],
      "metadata": {
        "id": "dE20L_w0YV0n",
        "outputId": "4130d152-d344-412e-8867-bc06663bc216",
        "colab": {
          "base_uri": "https://localhost:8080/",
          "height": 206
        }
      },
      "execution_count": 13,
      "outputs": [
        {
          "output_type": "execute_result",
          "data": {
            "text/plain": [
              "   Actual  Prediction    Error\n",
              "0   44.90     148.693  103.793\n",
              "1   13.86     146.098  132.238\n",
              "2    5.27     147.293  142.023\n",
              "3    6.50     147.888  141.388\n",
              "4   16.50     149.750  133.250"
            ],
            "text/html": [
              "\n",
              "  <div id=\"df-e40238b1-81b7-4624-9113-8ab1c9d5e929\" class=\"colab-df-container\">\n",
              "    <div>\n",
              "<style scoped>\n",
              "    .dataframe tbody tr th:only-of-type {\n",
              "        vertical-align: middle;\n",
              "    }\n",
              "\n",
              "    .dataframe tbody tr th {\n",
              "        vertical-align: top;\n",
              "    }\n",
              "\n",
              "    .dataframe thead th {\n",
              "        text-align: right;\n",
              "    }\n",
              "</style>\n",
              "<table border=\"1\" class=\"dataframe\">\n",
              "  <thead>\n",
              "    <tr style=\"text-align: right;\">\n",
              "      <th></th>\n",
              "      <th>Actual</th>\n",
              "      <th>Prediction</th>\n",
              "      <th>Error</th>\n",
              "    </tr>\n",
              "  </thead>\n",
              "  <tbody>\n",
              "    <tr>\n",
              "      <th>0</th>\n",
              "      <td>44.90</td>\n",
              "      <td>148.693</td>\n",
              "      <td>103.793</td>\n",
              "    </tr>\n",
              "    <tr>\n",
              "      <th>1</th>\n",
              "      <td>13.86</td>\n",
              "      <td>146.098</td>\n",
              "      <td>132.238</td>\n",
              "    </tr>\n",
              "    <tr>\n",
              "      <th>2</th>\n",
              "      <td>5.27</td>\n",
              "      <td>147.293</td>\n",
              "      <td>142.023</td>\n",
              "    </tr>\n",
              "    <tr>\n",
              "      <th>3</th>\n",
              "      <td>6.50</td>\n",
              "      <td>147.888</td>\n",
              "      <td>141.388</td>\n",
              "    </tr>\n",
              "    <tr>\n",
              "      <th>4</th>\n",
              "      <td>16.50</td>\n",
              "      <td>149.750</td>\n",
              "      <td>133.250</td>\n",
              "    </tr>\n",
              "  </tbody>\n",
              "</table>\n",
              "</div>\n",
              "    <div class=\"colab-df-buttons\">\n",
              "\n",
              "  <div class=\"colab-df-container\">\n",
              "    <button class=\"colab-df-convert\" onclick=\"convertToInteractive('df-e40238b1-81b7-4624-9113-8ab1c9d5e929')\"\n",
              "            title=\"Convert this dataframe to an interactive table.\"\n",
              "            style=\"display:none;\">\n",
              "\n",
              "  <svg xmlns=\"http://www.w3.org/2000/svg\" height=\"24px\" viewBox=\"0 -960 960 960\">\n",
              "    <path d=\"M120-120v-720h720v720H120Zm60-500h600v-160H180v160Zm220 220h160v-160H400v160Zm0 220h160v-160H400v160ZM180-400h160v-160H180v160Zm440 0h160v-160H620v160ZM180-180h160v-160H180v160Zm440 0h160v-160H620v160Z\"/>\n",
              "  </svg>\n",
              "    </button>\n",
              "\n",
              "  <style>\n",
              "    .colab-df-container {\n",
              "      display:flex;\n",
              "      gap: 12px;\n",
              "    }\n",
              "\n",
              "    .colab-df-convert {\n",
              "      background-color: #E8F0FE;\n",
              "      border: none;\n",
              "      border-radius: 50%;\n",
              "      cursor: pointer;\n",
              "      display: none;\n",
              "      fill: #1967D2;\n",
              "      height: 32px;\n",
              "      padding: 0 0 0 0;\n",
              "      width: 32px;\n",
              "    }\n",
              "\n",
              "    .colab-df-convert:hover {\n",
              "      background-color: #E2EBFA;\n",
              "      box-shadow: 0px 1px 2px rgba(60, 64, 67, 0.3), 0px 1px 3px 1px rgba(60, 64, 67, 0.15);\n",
              "      fill: #174EA6;\n",
              "    }\n",
              "\n",
              "    .colab-df-buttons div {\n",
              "      margin-bottom: 4px;\n",
              "    }\n",
              "\n",
              "    [theme=dark] .colab-df-convert {\n",
              "      background-color: #3B4455;\n",
              "      fill: #D2E3FC;\n",
              "    }\n",
              "\n",
              "    [theme=dark] .colab-df-convert:hover {\n",
              "      background-color: #434B5C;\n",
              "      box-shadow: 0px 1px 3px 1px rgba(0, 0, 0, 0.15);\n",
              "      filter: drop-shadow(0px 1px 2px rgba(0, 0, 0, 0.3));\n",
              "      fill: #FFFFFF;\n",
              "    }\n",
              "  </style>\n",
              "\n",
              "    <script>\n",
              "      const buttonEl =\n",
              "        document.querySelector('#df-e40238b1-81b7-4624-9113-8ab1c9d5e929 button.colab-df-convert');\n",
              "      buttonEl.style.display =\n",
              "        google.colab.kernel.accessAllowed ? 'block' : 'none';\n",
              "\n",
              "      async function convertToInteractive(key) {\n",
              "        const element = document.querySelector('#df-e40238b1-81b7-4624-9113-8ab1c9d5e929');\n",
              "        const dataTable =\n",
              "          await google.colab.kernel.invokeFunction('convertToInteractive',\n",
              "                                                    [key], {});\n",
              "        if (!dataTable) return;\n",
              "\n",
              "        const docLinkHtml = 'Like what you see? Visit the ' +\n",
              "          '<a target=\"_blank\" href=https://colab.research.google.com/notebooks/data_table.ipynb>data table notebook</a>'\n",
              "          + ' to learn more about interactive tables.';\n",
              "        element.innerHTML = '';\n",
              "        dataTable['output_type'] = 'display_data';\n",
              "        await google.colab.output.renderOutput(dataTable, element);\n",
              "        const docLink = document.createElement('div');\n",
              "        docLink.innerHTML = docLinkHtml;\n",
              "        element.appendChild(docLink);\n",
              "      }\n",
              "    </script>\n",
              "  </div>\n",
              "\n",
              "\n",
              "<div id=\"df-46814dd7-a75b-46dc-ade4-3d8d7cd790df\">\n",
              "  <button class=\"colab-df-quickchart\" onclick=\"quickchart('df-46814dd7-a75b-46dc-ade4-3d8d7cd790df')\"\n",
              "            title=\"Suggest charts\"\n",
              "            style=\"display:none;\">\n",
              "\n",
              "<svg xmlns=\"http://www.w3.org/2000/svg\" height=\"24px\"viewBox=\"0 0 24 24\"\n",
              "     width=\"24px\">\n",
              "    <g>\n",
              "        <path d=\"M19 3H5c-1.1 0-2 .9-2 2v14c0 1.1.9 2 2 2h14c1.1 0 2-.9 2-2V5c0-1.1-.9-2-2-2zM9 17H7v-7h2v7zm4 0h-2V7h2v10zm4 0h-2v-4h2v4z\"/>\n",
              "    </g>\n",
              "</svg>\n",
              "  </button>\n",
              "\n",
              "<style>\n",
              "  .colab-df-quickchart {\n",
              "      --bg-color: #E8F0FE;\n",
              "      --fill-color: #1967D2;\n",
              "      --hover-bg-color: #E2EBFA;\n",
              "      --hover-fill-color: #174EA6;\n",
              "      --disabled-fill-color: #AAA;\n",
              "      --disabled-bg-color: #DDD;\n",
              "  }\n",
              "\n",
              "  [theme=dark] .colab-df-quickchart {\n",
              "      --bg-color: #3B4455;\n",
              "      --fill-color: #D2E3FC;\n",
              "      --hover-bg-color: #434B5C;\n",
              "      --hover-fill-color: #FFFFFF;\n",
              "      --disabled-bg-color: #3B4455;\n",
              "      --disabled-fill-color: #666;\n",
              "  }\n",
              "\n",
              "  .colab-df-quickchart {\n",
              "    background-color: var(--bg-color);\n",
              "    border: none;\n",
              "    border-radius: 50%;\n",
              "    cursor: pointer;\n",
              "    display: none;\n",
              "    fill: var(--fill-color);\n",
              "    height: 32px;\n",
              "    padding: 0;\n",
              "    width: 32px;\n",
              "  }\n",
              "\n",
              "  .colab-df-quickchart:hover {\n",
              "    background-color: var(--hover-bg-color);\n",
              "    box-shadow: 0 1px 2px rgba(60, 64, 67, 0.3), 0 1px 3px 1px rgba(60, 64, 67, 0.15);\n",
              "    fill: var(--button-hover-fill-color);\n",
              "  }\n",
              "\n",
              "  .colab-df-quickchart-complete:disabled,\n",
              "  .colab-df-quickchart-complete:disabled:hover {\n",
              "    background-color: var(--disabled-bg-color);\n",
              "    fill: var(--disabled-fill-color);\n",
              "    box-shadow: none;\n",
              "  }\n",
              "\n",
              "  .colab-df-spinner {\n",
              "    border: 2px solid var(--fill-color);\n",
              "    border-color: transparent;\n",
              "    border-bottom-color: var(--fill-color);\n",
              "    animation:\n",
              "      spin 1s steps(1) infinite;\n",
              "  }\n",
              "\n",
              "  @keyframes spin {\n",
              "    0% {\n",
              "      border-color: transparent;\n",
              "      border-bottom-color: var(--fill-color);\n",
              "      border-left-color: var(--fill-color);\n",
              "    }\n",
              "    20% {\n",
              "      border-color: transparent;\n",
              "      border-left-color: var(--fill-color);\n",
              "      border-top-color: var(--fill-color);\n",
              "    }\n",
              "    30% {\n",
              "      border-color: transparent;\n",
              "      border-left-color: var(--fill-color);\n",
              "      border-top-color: var(--fill-color);\n",
              "      border-right-color: var(--fill-color);\n",
              "    }\n",
              "    40% {\n",
              "      border-color: transparent;\n",
              "      border-right-color: var(--fill-color);\n",
              "      border-top-color: var(--fill-color);\n",
              "    }\n",
              "    60% {\n",
              "      border-color: transparent;\n",
              "      border-right-color: var(--fill-color);\n",
              "    }\n",
              "    80% {\n",
              "      border-color: transparent;\n",
              "      border-right-color: var(--fill-color);\n",
              "      border-bottom-color: var(--fill-color);\n",
              "    }\n",
              "    90% {\n",
              "      border-color: transparent;\n",
              "      border-bottom-color: var(--fill-color);\n",
              "    }\n",
              "  }\n",
              "</style>\n",
              "\n",
              "  <script>\n",
              "    async function quickchart(key) {\n",
              "      const quickchartButtonEl =\n",
              "        document.querySelector('#' + key + ' button');\n",
              "      quickchartButtonEl.disabled = true;  // To prevent multiple clicks.\n",
              "      quickchartButtonEl.classList.add('colab-df-spinner');\n",
              "      try {\n",
              "        const charts = await google.colab.kernel.invokeFunction(\n",
              "            'suggestCharts', [key], {});\n",
              "      } catch (error) {\n",
              "        console.error('Error during call to suggestCharts:', error);\n",
              "      }\n",
              "      quickchartButtonEl.classList.remove('colab-df-spinner');\n",
              "      quickchartButtonEl.classList.add('colab-df-quickchart-complete');\n",
              "    }\n",
              "    (() => {\n",
              "      let quickchartButtonEl =\n",
              "        document.querySelector('#df-46814dd7-a75b-46dc-ade4-3d8d7cd790df button');\n",
              "      quickchartButtonEl.style.display =\n",
              "        google.colab.kernel.accessAllowed ? 'block' : 'none';\n",
              "    })();\n",
              "  </script>\n",
              "</div>\n",
              "\n",
              "    </div>\n",
              "  </div>\n"
            ]
          },
          "metadata": {},
          "execution_count": 13
        }
      ]
    },
    {
      "cell_type": "code",
      "source": [
        "plt.scatter([x[0] for x in test_x], results['Prediction'])\n",
        "plt.xlabel('Kms Driven')\n",
        "plt.ylabel('Price')\n",
        "plt.show()"
      ],
      "metadata": {
        "id": "sRUSmG7HYWRL",
        "outputId": "0d56e35b-d53c-412d-b1bd-963a33b2462e",
        "colab": {
          "base_uri": "https://localhost:8080/",
          "height": 449
        }
      },
      "execution_count": 14,
      "outputs": [
        {
          "output_type": "display_data",
          "data": {
            "text/plain": [
              "<Figure size 640x480 with 1 Axes>"
            ],
            "image/png": "[encoded data removed]"
          },
          "metadata": {}
        }
      ]
    },
    {
      "cell_type": "markdown",
      "source": [
        "We can see that relation between kms_driven and price is inverse, also that our predictions are very much off from actual prices, so these are the cases(almost all), where we can't just rely on single linear regression and we are required to use multiple features as we can't just base a car's price on the basis of how many kms_driven, we have to use mileage, make, years_old and various other features etc and to use all these features we use multiple linear regression( uses more than one features).\n",
        "The equation is  :  $$ y = w_0 + w_1x_1 + \\ldots + w_nx_n $$\n",
        "\n",
        "In cases of linear regression, we can change the x-coefficient(s), intercept and see the losses and base our prediction line accordingly.\n",
        "\n",
        "In case of this, single linear regression the implementation is given below. There are many solutions for this problem, one of them is using *closed form solution*.\n",
        "**Closed form solution** : when a problem can be solved using straightforward solution or when an equation which can be solved in terms of functions and mathematical operations. Opposite of this is numerical method solution, where a problem is solved iteratively, using approximation. examples of numerical methods are *Newton-Raphson, Gradient Descent*. let's say for this equation $$ sin(x) + e^x = 0$$\n",
        "we might not solve it using a direct method, so we go for some approximate solution, In case of closed form solutions, we don't use differentiation and integraion.\n",
        "\n",
        "Linear/Quadratic/Exponential equations are some of the closed form solvable. We can say when our algorithm improves over multiple iterations that it is not a closed form solution, just in case of gradient descent.\n",
        "\n",
        "*why do we even need to discuss the concept of non-closed form solutions, when we have a straight-forward formula to solve our problem?*\n",
        "\n",
        "When we increase the number of features of dimensions, we see the problem with this closed-form solution, as it can't handle a large number of dimensions.\n",
        "\n",
        "For a single dimension we can use the above formula for below variables:  \n",
        "\n",
        "$$ y = w \\times x  + b $$\n",
        "\n",
        "Let's say we have some points, our goal is to minimize the distance between points and the optimal line. Let's take the distance of points from the line(optimal), and square them(why square?, we can't differentiate if we take the absolute of distances as modulus function is not differentiable on origin and another reason is we can penalize outliers when using squares), so we sum all the squares of differences.\n",
        "\n",
        "$$ E = ∑_{i=1}^{n} d_{i}^2 $$\n",
        "\n",
        "here d is the distance of any point from the line.\n",
        "let's say the equation of prediction is\n",
        "$$ \\hat{y_{i}} = w \\times x_{i} + b $$\n",
        "here $$ \\hat{y_{i}}$$ is the predicted value, we are summing the errors so it can be written as\n",
        "$$ E(w,b) = ∑_{i=1}^{n}(y_i - w× x_i - b)^2 $$\n",
        "\n",
        "where $$ y_i $$ is the actual output.\n",
        "\n",
        "In this equation values of `b` and `w` can be calculated as\n",
        "$$ b = y̅ - w \\times x̅ $$\n",
        "\n",
        "where $$ y̅ $$ is the mean of all the actual y values and $$ x̅ $$ is the mean of all the x values, w can be calculated as\n",
        "\n",
        "$$ w = \\frac{∑_{i=1}^{n} (x_i - x̅)(y_i - y̅)}{∑_{i=1}^{n}(x_i - x̅)^2}$$\n",
        "\n",
        "where all the notations have their usual meanings(mentioned above)."
      ],
      "metadata": {
        "id": "wOswfEWqZg4T"
      }
    },
    {
      "cell_type": "markdown",
      "source": [
        "Implementation of this simple linear regression from scratch."
      ],
      "metadata": {
        "id": "txyT-UDOYFA9"
      }
    },
    {
      "cell_type": "code",
      "source": [
        "class LinearReg:\n",
        "  def __init__(self):\n",
        "    self.w = None\n",
        "    self.b = None\n",
        "\n",
        "  def fit(self, train_x_, train_y_):\n",
        "    # training a model is simply calculation of the weights\n",
        "    # first we have to agree on an input format, the input format here will just be an array with shape = (n, ) and same for the output shape = (n, )\n",
        "    if len(train_x_.shape) != 1:\n",
        "      raise TypeError(f\"Dimension of training data is {train_x_.shape}, where as required dimension is (n, )\")\n",
        "    if len(train_y_.shape) != 1 or train_y_.shape[0] != train_x_.shape[0]:\n",
        "      raise TypeError(f\"Dimension of input and output data don't match, dimension of input : {train_x_.shape} and dimension of output : {train_y_.shape}\")\n",
        "\n",
        "    # calculation of the weight/slope -> w\n",
        "    mean_x_, mean_y_ = train_x_.mean(), train_y_.mean()\n",
        "    num = sum([(x_ - mean_x_) * (y_ - mean_y_) for x_, y_ in zip(train_x_, train_y_)])\n",
        "    den = sum([(x_ - mean_x_)**2 for x_ in train_x_])\n",
        "    self.w = num / den\n",
        "    self.b = mean_y_ - self.w * mean_x_\n",
        "\n",
        "\n",
        "  def predict(self, test_x_):\n",
        "    # the agreed input format is (n, ), so we have to just return the predictions\n",
        "    if len(test_x_.shape) != 1 :\n",
        "      raise TypeError(f\"Dimension doesn't match, it should be in the format of (n, )\")\n",
        "    return self.w * test_x + self.b\n",
        "\n",
        "  def weights(self, ):\n",
        "    print(f\"Slope is {self.w}, Intercept is {self.b}\")\n",
        "    # return (self.w, self.b)\n",
        "\n",
        "\n",
        "print('Done.')"
      ],
      "metadata": {
        "id": "3D1NhrgLZGOv",
        "colab": {
          "base_uri": "https://localhost:8080/"
        },
        "outputId": "2b1b5096-ddc0-4fda-bb14-9afc31d056e7"
      },
      "execution_count": 15,
      "outputs": [
        {
          "output_type": "stream",
          "name": "stdout",
          "text": [
            "Done.\n"
          ]
        }
      ]
    },
    {
      "cell_type": "code",
      "source": [
        "x__ = train_x.reshape(-1)\n",
        "y__ = train_y.reshape(-1)\n",
        "\n",
        "x__.shape, y__.shape"
      ],
      "metadata": {
        "colab": {
          "base_uri": "https://localhost:8080/"
        },
        "id": "Y8k_ifzBYy1L",
        "outputId": "b0d99c17-d867-4f24-a3fa-b4a9630ca9db"
      },
      "execution_count": 16,
      "outputs": [
        {
          "output_type": "execute_result",
          "data": {
            "text/plain": [
              "((1242,), (1242,))"
            ]
          },
          "metadata": {},
          "execution_count": 16
        }
      ]
    },
    {
      "cell_type": "code",
      "source": [
        "lin_model = LinearReg()\n",
        "\n",
        "lin_model.fit(x__, y__)\n",
        "\n",
        "print( lr_model.coef_[0], lr_model.intercept_)\n",
        "\n",
        "lin_model.weights()"
      ],
      "metadata": {
        "colab": {
          "base_uri": "https://localhost:8080/"
        },
        "id": "jGMiWEnYaGiZ",
        "outputId": "029f932b-d20f-456c-f2b2-1e09ebb725fb"
      },
      "execution_count": 17,
      "outputs": [
        {
          "output_type": "stream",
          "name": "stdout",
          "text": [
            "[-5.03462383e-05] [150.40493891]\n",
            "Slope is -5.0346238314829366e-05, Intercept is 150.40493891337036\n"
          ]
        }
      ]
    },
    {
      "cell_type": "code",
      "source": [
        "preds__ = lin_model.predict(test_x.reshape(-1))\n",
        "\n",
        "preds__[:5], preds[:5]"
      ],
      "metadata": {
        "colab": {
          "base_uri": "https://localhost:8080/"
        },
        "id": "mOOl4cGlfvjE",
        "outputId": "c02c97fd-3847-4e63-b81f-0a29344d3945"
      },
      "execution_count": 18,
      "outputs": [
        {
          "output_type": "execute_result",
          "data": {
            "text/plain": [
              "(array([[148.69316681],\n",
              "        [146.09832169],\n",
              "        [147.29283654],\n",
              "        [147.887627  ],\n",
              "        [149.75043782]]),\n",
              " array([[148.69316681],\n",
              "        [146.09832169],\n",
              "        [147.29283654],\n",
              "        [147.887627  ],\n",
              "        [149.75043782]]))"
            ]
          },
          "metadata": {},
          "execution_count": 18
        }
      ]
    },
    {
      "cell_type": "markdown",
      "source": [
        "**Evaluation metrics to measure the accuracy of Regression outputs.**\n",
        "1. MAE(Mean Absolute Error) :  Let's say we have found an optimal line(it consists of points and all the predicted points lie on this line), then we can see how much predicted points differ from acutal points(co-ordinate difference), in this case we take sum of total absolute error and then average it.\n",
        "\n",
        "$$ MAE = \\frac{ \\sum_{i=1}^{n} |y_i - \\hat{y_i}| } { n } $$\n",
        "\n",
        "  The value which we get is in the units of y, it robust to outliers. Problems with this method is we are using absolute function and this modulus function is not differentiable, we can't use some of the optimization tekniks like gradient descent.This problem is solved by MSE.\n",
        "\n",
        "2. MSE(Mean Squared Error) : In this case instead of taking absolute of differences, square of differences is used.\n",
        "\n",
        "$$ MSE = \\frac{\\sum_{i=1}^{n} (y_i - \\hat{y_i})^2 }{n} $$\n",
        "\n",
        "  Disadvantage of this approach is not in the same unit as output, it will be square of the output unit, this penalizes outliers a lot, and influenced a lot by outliers and not robust to the outliers.\n",
        "\n",
        "3. RMSE : It is also not robust to the outliers, output is in the same unit.\n",
        "\n",
        "$$ RMSE = \\sqrt{\\frac{\\sum_{i=1}^{n} (y_i - \\hat{y_i})^2 }{n}} $$\n",
        "\n",
        "4. R2 Score :"
      ],
      "metadata": {
        "id": "C04RAROUn-Km"
      }
    },
    {
      "cell_type": "markdown",
      "source": [
        "**Implementation of multiple linear regression using sklearn Linear Regressor function**\n",
        "\n"
      ],
      "metadata": {
        "id": "DeZTyTWNJ-Zm"
      }
    },
    {
      "cell_type": "code",
      "source": [
        "# implementation using the sklearn regression function on the diabetes dataset\n",
        "from sklearn.datasets import load_diabetes\n",
        "x, y = load_diabetes(return_X_y = True)\n",
        "\n",
        "x.shape, y.shape # this is a numpy dataset, not a pandas dataframe"
      ],
      "metadata": {
        "id": "xidMSgYegVwY",
        "outputId": "94c9edb0-fe78-42df-b6d6-116cd74e8afe",
        "colab": {
          "base_uri": "https://localhost:8080/"
        }
      },
      "execution_count": 26,
      "outputs": [
        {
          "output_type": "execute_result",
          "data": {
            "text/plain": [
              "((442, 10), (442,))"
            ]
          },
          "metadata": {},
          "execution_count": 26
        }
      ]
    },
    {
      "cell_type": "code",
      "source": [
        "from sklearn.model_selection import train_test_split\n",
        "\n",
        "train_x, test_x, train_y, test_y = train_test_split(x, y, test_size = 0.15, random_state = 1)\n",
        "train_x.shape, train_y.shape"
      ],
      "metadata": {
        "id": "-i0bqv0sLVvm",
        "outputId": "6e805e7c-4d36-4300-ce06-2d41d4a81f45",
        "colab": {
          "base_uri": "https://localhost:8080/"
        }
      },
      "execution_count": 27,
      "outputs": [
        {
          "output_type": "execute_result",
          "data": {
            "text/plain": [
              "((375, 10), (375,))"
            ]
          },
          "metadata": {},
          "execution_count": 27
        }
      ]
    },
    {
      "cell_type": "code",
      "source": [
        "from sklearn.linear_model import LinearRegression\n",
        "multi_lr_model = LinearRegression()\n",
        "\n",
        "\n",
        "# train the model\n",
        "multi_lr_model.fit(train_x, train_y)\n",
        "\n",
        "print(f\"Coefficients are : {multi_lr_model.coef_}\\nIntercept is : {multi_lr_model.intercept_}\")"
      ],
      "metadata": {
        "id": "nPoh0wCfLacZ",
        "outputId": "8e30eae5-1ff4-4db5-82e2-36d6847e8267",
        "colab": {
          "base_uri": "https://localhost:8080/"
        }
      },
      "execution_count": 30,
      "outputs": [
        {
          "output_type": "stream",
          "name": "stdout",
          "text": [
            "Coefficients are : [  -4.97396161 -242.9923118   563.7625512   297.83550239 -753.96897492\n",
            "  441.76985343  104.22519005  207.72221945  722.69217589   47.62616342]\n",
            "Intercept is : 150.9079064503418\n"
          ]
        }
      ]
    },
    {
      "cell_type": "markdown",
      "source": [
        "**Implementation of multiple linear regressor from scratch**\n",
        "\n",
        "The equation for weights is :\n",
        "$$ W = (X^TX)^{-1}X^{T}Y $$\n",
        "\n",
        "here, W is weight(list of all coefficients(W_0 is intercept and rest are hyper-plane coefficients).\n",
        "X is the matrix of input features(with n rows and m features, so the dimensions are (n,m), since we have to add 1s to add the bias term, its dimension becomes (n,m+1), x^t : transpose of the x value.\n",
        "Y is the output or target matrix, which is used for calculation of the this equation.\n",
        "\n"
      ],
      "metadata": {
        "id": "Kplwnv3aNk-v"
      }
    },
    {
      "cell_type": "code",
      "source": [
        "class multi_linear_regression():\n",
        "\n",
        "  def __init__(self):\n",
        "    self.w = None\n",
        "    self.b = None\n",
        "    self.W = None\n",
        "\n",
        "  # after the model is trained, print the coefficients, intercept and instruction to access them\n",
        "  def fit(self, train_x_, train_y_):\n",
        "    # first checking for the dimensions of inputs(feature and target)\n",
        "    if train_x_.shape[0] != train_y_.shape[0] or len(train_x_.shape) != 2 or len(train_y_.shape) != 1 :\n",
        "      raise TypeError(f\"Provided dimensions don't match, please make sure the dimensions to be in format as specified below\\nIf train_x has dimension : (n, m) -> train_y must have dimension : (n, )\")\n",
        "    # since our train_x doesn't have bias coefficients(value = 1, which make addition of bias term possible), we will insert a column of 1s, the total no. of 1s which will be inserted is equal to the number of rows in the dataset(train_x_), this can be inserted using np.insert\n",
        "    train_x_ = np.insert(train_x_, 0, 1, axis = 1)\n",
        "    # print(train_x_)\n",
        "    # calculate the coefficients(coefficients and intercept)\n",
        "    self.W = np.linalg.inv(np.dot(train_x_.T, train_x_)).dot(train_x_.T).dot(train_y_)\n",
        "    self.w, self.b = self.W[1:], self.W[0]\n",
        "    print(f\"Training completed.\\nCoefficients are : {self.w}\\nIntercept is : {self.b}\")\n",
        "\n",
        "\n",
        "\n",
        "  def predict(self, test_x_):\n",
        "    # the test_x input has dimension (n, m)\n",
        "    if len(test_x_.shape) != 2 :\n",
        "      raise TypeError('Provided input doesnt have correct dimension, correct input dimension should be (n, m)')\n",
        "\n",
        "    return np.insert(test_x_, 0, 1, axis = 1).dot(self.W)\n",
        "\n",
        "\n",
        "\n",
        "\n",
        "print('Done.')"
      ],
      "metadata": {
        "id": "c1ShraQOMpYo",
        "outputId": "169c9c29-06e7-48da-d159-c37e16e47d6d",
        "colab": {
          "base_uri": "https://localhost:8080/"
        }
      },
      "execution_count": 66,
      "outputs": [
        {
          "output_type": "stream",
          "name": "stdout",
          "text": [
            "Done.\n"
          ]
        }
      ]
    },
    {
      "cell_type": "code",
      "source": [
        "mult_model = multi_linear_regression()\n",
        "\n",
        "mult_model.fit(train_x, train_y)"
      ],
      "metadata": {
        "id": "f1pLTo-rPv4a",
        "outputId": "a5256001-2784-442c-c124-fd66ffce2539",
        "colab": {
          "base_uri": "https://localhost:8080/"
        }
      },
      "execution_count": 69,
      "outputs": [
        {
          "output_type": "stream",
          "name": "stdout",
          "text": [
            "Training completed.\n",
            "Coefficients are : [  -4.97396161 -242.9923118   563.7625512   297.83550239 -753.96897492\n",
            "  441.76985343  104.22519005  207.72221945  722.69217589   47.62616342]\n",
            "Intercept is : 150.90790645034178\n"
          ]
        }
      ]
    },
    {
      "cell_type": "code",
      "source": [
        "test_x.shape, mult_model.W.shape"
      ],
      "metadata": {
        "id": "3W1_MaDyP-RO",
        "outputId": "261505ff-bd21-4cfa-bcc6-15b39e3982ef",
        "colab": {
          "base_uri": "https://localhost:8080/"
        }
      },
      "execution_count": 65,
      "outputs": [
        {
          "output_type": "execute_result",
          "data": {
            "text/plain": [
              "((67, 10), (11,))"
            ]
          },
          "metadata": {},
          "execution_count": 65
        }
      ]
    },
    {
      "cell_type": "code",
      "source": [
        "print(multi_lr_model.predict(test_x)[:5])\n",
        "\n",
        "print(mult_model.predict(test_x)[:5])"
      ],
      "metadata": {
        "id": "pzOU1r9mV37j",
        "outputId": "7fc69727-6f7a-4f69-904d-104af26d685a",
        "colab": {
          "base_uri": "https://localhost:8080/"
        }
      },
      "execution_count": 73,
      "outputs": [
        {
          "output_type": "stream",
          "name": "stdout",
          "text": [
            "[121.05118447 110.43294288 182.34842351  67.71256431 171.99841967]\n",
            "[121.05118447 110.43294288 182.34842351  67.71256431 171.99841967]\n"
          ]
        }
      ]
    },
    {
      "cell_type": "markdown",
      "source": [
        "We can see our implementation yields same result as the sklearn's regression model."
      ],
      "metadata": {
        "id": "EkrW-RFzZzbF"
      }
    },
    {
      "cell_type": "code",
      "source": [],
      "metadata": {
        "id": "9tdd4SjpZcqE"
      },
      "execution_count": null,
      "outputs": []
    }
  ]
}